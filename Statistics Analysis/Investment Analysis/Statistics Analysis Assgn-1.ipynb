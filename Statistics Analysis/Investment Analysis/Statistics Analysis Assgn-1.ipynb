{
 "cells": [
  {
   "cell_type": "markdown",
   "metadata": {},
   "source": [
    "#  <font color = 'blue'><center> Investment Analysis for Spark Funds </center></font> "
   ]
  },
  {
   "cell_type": "markdown",
   "metadata": {},
   "source": [
    "<h4>Problem Statement:</h4>Spark Funds wants to make investments in a few companies. The CEO of Spark Funds wants to understand the global trends in investments so that she can take the investment decisions effectively.\n",
    "Spark Funds has two minor constraints for investments:\n",
    "\n",
    "-  It wants to invest between 5 to 15 million USD per round of investment\n",
    "\n",
    "-  It wants to invest only in English-speaking countries because of the ease of communication with the companies it would invest in"
   ]
  },
  {
   "cell_type": "code",
   "execution_count": 1570,
   "metadata": {},
   "outputs": [],
   "source": [
    "#import the required libraries\n",
    "\n",
    "import numpy as np\n",
    "import pandas as pd\n",
    "import matplotlib.pyplot as plt\n",
    "import seaborn as sns"
   ]
  },
  {
   "cell_type": "markdown",
   "metadata": {},
   "source": [
    "<b>companies.csv contains details of several companies <br>\n",
    "rounds2.csv contains details of funding made by companies in several sectors</b>"
   ]
  },
  {
   "cell_type": "markdown",
   "metadata": {},
   "source": [
    "Read the rounds2 and companies as dataframes using proper encoding technique "
   ]
  },
  {
   "cell_type": "code",
   "execution_count": 1571,
   "metadata": {},
   "outputs": [],
   "source": [
    "# Read the rounds2 and companies csvs using read_csv() function of pandas library\n",
    "\n",
    "rounds = pd.read_csv(\"D:\\AIML Pythn Notebooks\\Statistics Analysis\\Assignments\\Assignment-1\\\\rounds2.csv\",encoding= 'palmos')\n",
    "companies = pd.read_csv(\"D:\\AIML Pythn Notebooks\\Statistics Analysis\\Assignments\\Assignment-1\\\\companies.csv\",encoding= 'palmos')"
   ]
  },
  {
   "cell_type": "markdown",
   "metadata": {},
   "source": [
    "Verify whether data is read correctly"
   ]
  },
  {
   "cell_type": "code",
   "execution_count": 1572,
   "metadata": {},
   "outputs": [
    {
     "name": "stdout",
     "output_type": "stream",
     "text": [
      "(114949, 6)\n",
      "(66368, 10)\n"
     ]
    }
   ],
   "source": [
    "#Check the shape of the dataframes\n",
    "print(rounds.shape)\n",
    "print(companies.shape)"
   ]
  },
  {
   "cell_type": "code",
   "execution_count": 1573,
   "metadata": {},
   "outputs": [
    {
     "data": {
      "text/plain": [
       "Index(['permalink', 'name', 'homepage_url', 'category_list', 'status',\n",
       "       'country_code', 'state_code', 'region', 'city', 'founded_at'],\n",
       "      dtype='object')"
      ]
     },
     "execution_count": 1573,
     "metadata": {},
     "output_type": "execute_result"
    }
   ],
   "source": [
    "# Remove any spaces that might be present at the either ends of columns\n",
    "rounds.columns.str.strip()\n",
    "companies.columns.str.strip()"
   ]
  },
  {
   "cell_type": "code",
   "execution_count": 1574,
   "metadata": {},
   "outputs": [
    {
     "name": "stdout",
     "output_type": "stream",
     "text": [
      "<class 'pandas.core.frame.DataFrame'>\n",
      "RangeIndex: 114949 entries, 0 to 114948\n",
      "Data columns (total 6 columns):\n",
      " #   Column                   Non-Null Count   Dtype  \n",
      "---  ------                   --------------   -----  \n",
      " 0   company_permalink        114949 non-null  object \n",
      " 1   funding_round_permalink  114949 non-null  object \n",
      " 2   funding_round_type       114949 non-null  object \n",
      " 3   funding_round_code       31140 non-null   object \n",
      " 4   funded_at                114949 non-null  object \n",
      " 5   raised_amount_usd        94959 non-null   float64\n",
      "dtypes: float64(1), object(5)\n",
      "memory usage: 5.3+ MB\n"
     ]
    }
   ],
   "source": [
    "#Check the datatypes of all the columns of the rounds dataframe\n",
    "rounds.info()"
   ]
  },
  {
   "cell_type": "code",
   "execution_count": 1575,
   "metadata": {},
   "outputs": [
    {
     "name": "stdout",
     "output_type": "stream",
     "text": [
      "<class 'pandas.core.frame.DataFrame'>\n",
      "RangeIndex: 66368 entries, 0 to 66367\n",
      "Data columns (total 10 columns):\n",
      " #   Column         Non-Null Count  Dtype \n",
      "---  ------         --------------  ----- \n",
      " 0   permalink      66368 non-null  object\n",
      " 1   name           66367 non-null  object\n",
      " 2   homepage_url   61310 non-null  object\n",
      " 3   category_list  63220 non-null  object\n",
      " 4   status         66368 non-null  object\n",
      " 5   country_code   59410 non-null  object\n",
      " 6   state_code     57821 non-null  object\n",
      " 7   region         58338 non-null  object\n",
      " 8   city           58340 non-null  object\n",
      " 9   founded_at     51147 non-null  object\n",
      "dtypes: object(10)\n",
      "memory usage: 5.1+ MB\n"
     ]
    }
   ],
   "source": [
    "#Check the datatypes of all the columns of the companies dataframe\n",
    "companies.info()"
   ]
  },
  {
   "cell_type": "markdown",
   "metadata": {},
   "source": [
    "<b>Find number of unique companies in rounds2</b><br>\n",
    "To find number of unique companies let us check if there any null values in company_permalink column rounds dataframe so that we can eliminate them"
   ]
  },
  {
   "cell_type": "code",
   "execution_count": 1576,
   "metadata": {},
   "outputs": [
    {
     "data": {
      "text/plain": [
       "company_permalink              0\n",
       "funding_round_permalink        0\n",
       "funding_round_type             0\n",
       "funding_round_code         83809\n",
       "funded_at                      0\n",
       "raised_amount_usd          19990\n",
       "dtype: int64"
      ]
     },
     "execution_count": 1576,
     "metadata": {},
     "output_type": "execute_result"
    }
   ],
   "source": [
    "#Check the number of null values in the columns  of rounds dataframe\n",
    "rounds.isnull().sum()"
   ]
  },
  {
   "cell_type": "markdown",
   "metadata": {},
   "source": [
    "As there are no null values in company_permalink column Proceed to finding number of unique companies"
   ]
  },
  {
   "cell_type": "code",
   "execution_count": 1577,
   "metadata": {},
   "outputs": [
    {
     "data": {
      "text/html": [
       "<div>\n",
       "<style scoped>\n",
       "    .dataframe tbody tr th:only-of-type {\n",
       "        vertical-align: middle;\n",
       "    }\n",
       "\n",
       "    .dataframe tbody tr th {\n",
       "        vertical-align: top;\n",
       "    }\n",
       "\n",
       "    .dataframe thead th {\n",
       "        text-align: right;\n",
       "    }\n",
       "</style>\n",
       "<table border=\"1\" class=\"dataframe\">\n",
       "  <thead>\n",
       "    <tr style=\"text-align: right;\">\n",
       "      <th></th>\n",
       "      <th>company_permalink</th>\n",
       "      <th>funding_round_permalink</th>\n",
       "      <th>funding_round_type</th>\n",
       "      <th>funding_round_code</th>\n",
       "      <th>funded_at</th>\n",
       "      <th>raised_amount_usd</th>\n",
       "    </tr>\n",
       "  </thead>\n",
       "  <tbody>\n",
       "    <tr>\n",
       "      <th>0</th>\n",
       "      <td>/organization/-fame</td>\n",
       "      <td>/funding-round/9a01d05418af9f794eebff7ace91f638</td>\n",
       "      <td>venture</td>\n",
       "      <td>B</td>\n",
       "      <td>05-01-2015</td>\n",
       "      <td>10000000.0</td>\n",
       "    </tr>\n",
       "    <tr>\n",
       "      <th>1</th>\n",
       "      <td>/ORGANIZATION/-QOUNTER</td>\n",
       "      <td>/funding-round/22dacff496eb7acb2b901dec1dfe5633</td>\n",
       "      <td>venture</td>\n",
       "      <td>A</td>\n",
       "      <td>14-10-2014</td>\n",
       "      <td>NaN</td>\n",
       "    </tr>\n",
       "    <tr>\n",
       "      <th>2</th>\n",
       "      <td>/organization/-qounter</td>\n",
       "      <td>/funding-round/b44fbb94153f6cdef13083530bb48030</td>\n",
       "      <td>seed</td>\n",
       "      <td>NaN</td>\n",
       "      <td>01-03-2014</td>\n",
       "      <td>700000.0</td>\n",
       "    </tr>\n",
       "    <tr>\n",
       "      <th>3</th>\n",
       "      <td>/ORGANIZATION/-THE-ONE-OF-THEM-INC-</td>\n",
       "      <td>/funding-round/650b8f704416801069bb178a1418776b</td>\n",
       "      <td>venture</td>\n",
       "      <td>B</td>\n",
       "      <td>30-01-2014</td>\n",
       "      <td>3406878.0</td>\n",
       "    </tr>\n",
       "    <tr>\n",
       "      <th>4</th>\n",
       "      <td>/organization/0-6-com</td>\n",
       "      <td>/funding-round/5727accaeaa57461bd22a9bdd945382d</td>\n",
       "      <td>venture</td>\n",
       "      <td>A</td>\n",
       "      <td>19-03-2008</td>\n",
       "      <td>2000000.0</td>\n",
       "    </tr>\n",
       "  </tbody>\n",
       "</table>\n",
       "</div>"
      ],
      "text/plain": [
       "                     company_permalink  \\\n",
       "0                  /organization/-fame   \n",
       "1               /ORGANIZATION/-QOUNTER   \n",
       "2               /organization/-qounter   \n",
       "3  /ORGANIZATION/-THE-ONE-OF-THEM-INC-   \n",
       "4                /organization/0-6-com   \n",
       "\n",
       "                           funding_round_permalink funding_round_type  \\\n",
       "0  /funding-round/9a01d05418af9f794eebff7ace91f638            venture   \n",
       "1  /funding-round/22dacff496eb7acb2b901dec1dfe5633            venture   \n",
       "2  /funding-round/b44fbb94153f6cdef13083530bb48030               seed   \n",
       "3  /funding-round/650b8f704416801069bb178a1418776b            venture   \n",
       "4  /funding-round/5727accaeaa57461bd22a9bdd945382d            venture   \n",
       "\n",
       "  funding_round_code   funded_at  raised_amount_usd  \n",
       "0                  B  05-01-2015         10000000.0  \n",
       "1                  A  14-10-2014                NaN  \n",
       "2                NaN  01-03-2014           700000.0  \n",
       "3                  B  30-01-2014          3406878.0  \n",
       "4                  A  19-03-2008          2000000.0  "
      ]
     },
     "execution_count": 1577,
     "metadata": {},
     "output_type": "execute_result"
    }
   ],
   "source": [
    "# Retrieve first 5 rows of rounds dataframe\n",
    "rounds.head()"
   ]
  },
  {
   "cell_type": "markdown",
   "metadata": {},
   "source": [
    "Data in company_permalink column doesnot seem to be following a particular order. <br> So Convert them into either upper or lower case before calculating number of distinct companies in rounds "
   ]
  },
  {
   "cell_type": "code",
   "execution_count": 1578,
   "metadata": {},
   "outputs": [
    {
     "data": {
      "text/plain": [
       "66368"
      ]
     },
     "execution_count": 1578,
     "metadata": {},
     "output_type": "execute_result"
    }
   ],
   "source": [
    "# Convert the details in company_permalink to capital letters\n",
    "rounds['company_permalink'] = rounds.company_permalink.apply(lambda x: x.upper())\n",
    "\n",
    "#Find number of unique companies in rounds dataframe\n",
    "rounds.company_permalink.nunique()"
   ]
  },
  {
   "cell_type": "markdown",
   "metadata": {},
   "source": [
    "<b>Find number of unique companies in comapnies file</b><br>To find number of unique companies let us check if there any null values in permalink column companies dataframe so that we can eliminate them"
   ]
  },
  {
   "cell_type": "code",
   "execution_count": 1579,
   "metadata": {},
   "outputs": [
    {
     "data": {
      "text/plain": [
       "permalink            0\n",
       "name                 1\n",
       "homepage_url      5058\n",
       "category_list     3148\n",
       "status               0\n",
       "country_code      6958\n",
       "state_code        8547\n",
       "region            8030\n",
       "city              8028\n",
       "founded_at       15221\n",
       "dtype: int64"
      ]
     },
     "execution_count": 1579,
     "metadata": {},
     "output_type": "execute_result"
    }
   ],
   "source": [
    "#Check the number of null values in the columns  of rounds dataframe\n",
    "companies.isnull().sum()"
   ]
  },
  {
   "cell_type": "markdown",
   "metadata": {},
   "source": [
    "As there are no null values in permalink column Proceed to finding number of unique companies"
   ]
  },
  {
   "cell_type": "code",
   "execution_count": 1580,
   "metadata": {},
   "outputs": [
    {
     "data": {
      "text/html": [
       "<div>\n",
       "<style scoped>\n",
       "    .dataframe tbody tr th:only-of-type {\n",
       "        vertical-align: middle;\n",
       "    }\n",
       "\n",
       "    .dataframe tbody tr th {\n",
       "        vertical-align: top;\n",
       "    }\n",
       "\n",
       "    .dataframe thead th {\n",
       "        text-align: right;\n",
       "    }\n",
       "</style>\n",
       "<table border=\"1\" class=\"dataframe\">\n",
       "  <thead>\n",
       "    <tr style=\"text-align: right;\">\n",
       "      <th></th>\n",
       "      <th>permalink</th>\n",
       "      <th>name</th>\n",
       "      <th>homepage_url</th>\n",
       "      <th>category_list</th>\n",
       "      <th>status</th>\n",
       "      <th>country_code</th>\n",
       "      <th>state_code</th>\n",
       "      <th>region</th>\n",
       "      <th>city</th>\n",
       "      <th>founded_at</th>\n",
       "    </tr>\n",
       "  </thead>\n",
       "  <tbody>\n",
       "    <tr>\n",
       "      <th>0</th>\n",
       "      <td>/Organization/-Fame</td>\n",
       "      <td>#fame</td>\n",
       "      <td>http://livfame.com</td>\n",
       "      <td>Media</td>\n",
       "      <td>operating</td>\n",
       "      <td>IND</td>\n",
       "      <td>16</td>\n",
       "      <td>Mumbai</td>\n",
       "      <td>Mumbai</td>\n",
       "      <td>NaN</td>\n",
       "    </tr>\n",
       "    <tr>\n",
       "      <th>1</th>\n",
       "      <td>/Organization/-Qounter</td>\n",
       "      <td>:Qounter</td>\n",
       "      <td>http://www.qounter.com</td>\n",
       "      <td>Application Platforms|Real Time|Social Network...</td>\n",
       "      <td>operating</td>\n",
       "      <td>USA</td>\n",
       "      <td>DE</td>\n",
       "      <td>DE - Other</td>\n",
       "      <td>Delaware City</td>\n",
       "      <td>04-09-2014</td>\n",
       "    </tr>\n",
       "    <tr>\n",
       "      <th>2</th>\n",
       "      <td>/Organization/-The-One-Of-Them-Inc-</td>\n",
       "      <td>(THE) ONE of THEM,Inc.</td>\n",
       "      <td>http://oneofthem.jp</td>\n",
       "      <td>Apps|Games|Mobile</td>\n",
       "      <td>operating</td>\n",
       "      <td>NaN</td>\n",
       "      <td>NaN</td>\n",
       "      <td>NaN</td>\n",
       "      <td>NaN</td>\n",
       "      <td>NaN</td>\n",
       "    </tr>\n",
       "    <tr>\n",
       "      <th>3</th>\n",
       "      <td>/Organization/0-6-Com</td>\n",
       "      <td>0-6.com</td>\n",
       "      <td>http://www.0-6.com</td>\n",
       "      <td>Curated Web</td>\n",
       "      <td>operating</td>\n",
       "      <td>CHN</td>\n",
       "      <td>22</td>\n",
       "      <td>Beijing</td>\n",
       "      <td>Beijing</td>\n",
       "      <td>01-01-2007</td>\n",
       "    </tr>\n",
       "    <tr>\n",
       "      <th>4</th>\n",
       "      <td>/Organization/004-Technologies</td>\n",
       "      <td>004 Technologies</td>\n",
       "      <td>http://004gmbh.de/en/004-interact</td>\n",
       "      <td>Software</td>\n",
       "      <td>operating</td>\n",
       "      <td>USA</td>\n",
       "      <td>IL</td>\n",
       "      <td>Springfield, Illinois</td>\n",
       "      <td>Champaign</td>\n",
       "      <td>01-01-2010</td>\n",
       "    </tr>\n",
       "  </tbody>\n",
       "</table>\n",
       "</div>"
      ],
      "text/plain": [
       "                             permalink                    name  \\\n",
       "0                  /Organization/-Fame                   #fame   \n",
       "1               /Organization/-Qounter                :Qounter   \n",
       "2  /Organization/-The-One-Of-Them-Inc-  (THE) ONE of THEM,Inc.   \n",
       "3                /Organization/0-6-Com                 0-6.com   \n",
       "4       /Organization/004-Technologies        004 Technologies   \n",
       "\n",
       "                        homepage_url  \\\n",
       "0                 http://livfame.com   \n",
       "1             http://www.qounter.com   \n",
       "2                http://oneofthem.jp   \n",
       "3                 http://www.0-6.com   \n",
       "4  http://004gmbh.de/en/004-interact   \n",
       "\n",
       "                                       category_list     status country_code  \\\n",
       "0                                              Media  operating          IND   \n",
       "1  Application Platforms|Real Time|Social Network...  operating          USA   \n",
       "2                                  Apps|Games|Mobile  operating          NaN   \n",
       "3                                        Curated Web  operating          CHN   \n",
       "4                                           Software  operating          USA   \n",
       "\n",
       "  state_code                 region           city  founded_at  \n",
       "0         16                 Mumbai         Mumbai         NaN  \n",
       "1         DE             DE - Other  Delaware City  04-09-2014  \n",
       "2        NaN                    NaN            NaN         NaN  \n",
       "3         22                Beijing        Beijing  01-01-2007  \n",
       "4         IL  Springfield, Illinois      Champaign  01-01-2010  "
      ]
     },
     "execution_count": 1580,
     "metadata": {},
     "output_type": "execute_result"
    }
   ],
   "source": [
    "#Retrieve first 5 rows from companies dataframe\n",
    "companies.head()"
   ]
  },
  {
   "cell_type": "markdown",
   "metadata": {},
   "source": [
    "Coverting permalink column to same order so that it would be easy to merge "
   ]
  },
  {
   "cell_type": "code",
   "execution_count": 1581,
   "metadata": {},
   "outputs": [
    {
     "data": {
      "text/plain": [
       "66368"
      ]
     },
     "execution_count": 1581,
     "metadata": {},
     "output_type": "execute_result"
    }
   ],
   "source": [
    "# Convert the details in permalink to Upper case\n",
    "companies['permalink'] = companies.permalink.apply(lambda x: x.upper())\n",
    "\n",
    "#Find number of unique companies by finding number of unique values in permalink column\n",
    "companies.permalink.nunique()"
   ]
  },
  {
   "cell_type": "markdown",
   "metadata": {},
   "source": [
    "The number of companies in both dataframes match but lets check if there are any companies that are different "
   ]
  },
  {
   "cell_type": "code",
   "execution_count": 1582,
   "metadata": {},
   "outputs": [
    {
     "data": {
      "text/plain": [
       "0"
      ]
     },
     "execution_count": 1582,
     "metadata": {},
     "output_type": "execute_result"
    }
   ],
   "source": [
    "#Find number of companies in rounds which are not in companies dataframe\n",
    "rounds[~rounds.company_permalink.isin(companies.permalink.unique())].company_permalink.size"
   ]
  },
  {
   "cell_type": "code",
   "execution_count": 1583,
   "metadata": {},
   "outputs": [
    {
     "data": {
      "text/plain": [
       "0"
      ]
     },
     "execution_count": 1583,
     "metadata": {},
     "output_type": "execute_result"
    }
   ],
   "source": [
    "#Find number of companies in rounds which are not in companies dataframe\n",
    "companies[~companies.permalink.isin(rounds.company_permalink.unique())].permalink.size"
   ]
  },
  {
   "cell_type": "markdown",
   "metadata": {},
   "source": [
    "<i>As the number of distinct values of permalink and number of rows are same and permalink has no null values. permalink column acts as primary key for companies</i>"
   ]
  },
  {
   "cell_type": "markdown",
   "metadata": {},
   "source": [
    "<b> Merge the dataframes companies and rounds dataframes</b><br> Since we are interested in data present in both  dataframes  we will merge on permalink column to create a master_frame which can be used for Analysis"
   ]
  },
  {
   "cell_type": "code",
   "execution_count": 1584,
   "metadata": {},
   "outputs": [],
   "source": [
    "#Merge Rounds and Companies Dataframes\n",
    "master_frame = pd.merge(rounds,companies,how=\"inner\",left_on='company_permalink',right_on='permalink')"
   ]
  },
  {
   "cell_type": "markdown",
   "metadata": {},
   "source": [
    "The number of rows should be number of rows in master_frame should be<br> <i>rows in rounds - number of companies not matching to companies dataframe<i>=114949-0 = 114949 <br> <i>number of columns  = number of cols on companies + number of cols of rounds<i>  =10+6=16"
   ]
  },
  {
   "cell_type": "code",
   "execution_count": 1585,
   "metadata": {},
   "outputs": [
    {
     "data": {
      "text/plain": [
       "(114949, 16)"
      ]
     },
     "execution_count": 1585,
     "metadata": {},
     "output_type": "execute_result"
    }
   ],
   "source": [
    "#Find the shape of dataframe\n",
    "master_frame.shape"
   ]
  },
  {
   "cell_type": "code",
   "execution_count": 1586,
   "metadata": {},
   "outputs": [
    {
     "name": "stdout",
     "output_type": "stream",
     "text": [
      "<class 'pandas.core.frame.DataFrame'>\n",
      "Int64Index: 114949 entries, 0 to 114948\n",
      "Data columns (total 16 columns):\n",
      " #   Column                   Non-Null Count   Dtype  \n",
      "---  ------                   --------------   -----  \n",
      " 0   company_permalink        114949 non-null  object \n",
      " 1   funding_round_permalink  114949 non-null  object \n",
      " 2   funding_round_type       114949 non-null  object \n",
      " 3   funding_round_code       31140 non-null   object \n",
      " 4   funded_at                114949 non-null  object \n",
      " 5   raised_amount_usd        94959 non-null   float64\n",
      " 6   permalink                114949 non-null  object \n",
      " 7   name                     114948 non-null  object \n",
      " 8   homepage_url             108815 non-null  object \n",
      " 9   category_list            111539 non-null  object \n",
      " 10  status                   114949 non-null  object \n",
      " 11  country_code             106271 non-null  object \n",
      " 12  state_code               104003 non-null  object \n",
      " 13  region                   104782 non-null  object \n",
      " 14  city                     104785 non-null  object \n",
      " 15  founded_at               94428 non-null   object \n",
      "dtypes: float64(1), object(15)\n",
      "memory usage: 14.9+ MB\n"
     ]
    }
   ],
   "source": [
    "#Check the datatypes of all the columns of the dataframe\n",
    "master_frame.info()"
   ]
  },
  {
   "cell_type": "markdown",
   "metadata": {},
   "source": [
    "<b>Data Handling and Cleaning</b><br>"
   ]
  },
  {
   "cell_type": "markdown",
   "metadata": {},
   "source": [
    "Treating Missing Values and Removing redundant and unwanted columns"
   ]
  },
  {
   "cell_type": "code",
   "execution_count": 1587,
   "metadata": {},
   "outputs": [
    {
     "data": {
      "text/plain": [
       "company_permalink              0\n",
       "funding_round_permalink        0\n",
       "funding_round_type             0\n",
       "funding_round_code         83809\n",
       "funded_at                      0\n",
       "raised_amount_usd          19990\n",
       "permalink                      0\n",
       "name                           1\n",
       "homepage_url                6134\n",
       "category_list               3410\n",
       "status                         0\n",
       "country_code                8678\n",
       "state_code                 10946\n",
       "region                     10167\n",
       "city                       10164\n",
       "founded_at                 20521\n",
       "dtype: int64"
      ]
     },
     "execution_count": 1587,
     "metadata": {},
     "output_type": "execute_result"
    }
   ],
   "source": [
    "# Check for null values in master_frame\n",
    "master_frame.isnull().sum()"
   ]
  },
  {
   "cell_type": "markdown",
   "metadata": {},
   "source": [
    "We don't require funding_type_code column so dropping the column"
   ]
  },
  {
   "cell_type": "code",
   "execution_count": 1588,
   "metadata": {},
   "outputs": [],
   "source": [
    "#Drop Column funding_round_code\n",
    "master_frame = master_frame.drop('funding_round_code',axis=1)"
   ]
  },
  {
   "cell_type": "markdown",
   "metadata": {},
   "source": [
    "company_permalink and permalink represent the same data so we don't require both of them one should be sufficient so dropping company_permalink  column"
   ]
  },
  {
   "cell_type": "code",
   "execution_count": 1589,
   "metadata": {},
   "outputs": [],
   "source": [
    "#Drop Column company_permalink\n",
    "master_frame = master_frame.drop('company_permalink',axis=1)"
   ]
  },
  {
   "cell_type": "code",
   "execution_count": 1590,
   "metadata": {},
   "outputs": [
    {
     "data": {
      "text/plain": [
       "(114949, 14)"
      ]
     },
     "execution_count": 1590,
     "metadata": {},
     "output_type": "execute_result"
    }
   ],
   "source": [
    "#Check shape the dataframe\n",
    "master_frame.shape"
   ]
  },
  {
   "cell_type": "code",
   "execution_count": 1591,
   "metadata": {},
   "outputs": [
    {
     "data": {
      "text/plain": [
       "funding_round_permalink        0\n",
       "funding_round_type             0\n",
       "funded_at                      0\n",
       "raised_amount_usd          19990\n",
       "permalink                      0\n",
       "name                           1\n",
       "homepage_url                6134\n",
       "category_list               3410\n",
       "status                         0\n",
       "country_code                8678\n",
       "state_code                 10946\n",
       "region                     10167\n",
       "city                       10164\n",
       "founded_at                 20521\n",
       "dtype: int64"
      ]
     },
     "execution_count": 1591,
     "metadata": {},
     "output_type": "execute_result"
    }
   ],
   "source": [
    "# Check for null values in master_frame\n",
    "master_frame.isnull().sum()"
   ]
  },
  {
   "cell_type": "code",
   "execution_count": 1592,
   "metadata": {},
   "outputs": [],
   "source": [
    "#Convert raised_amount_usd to millions\n",
    "master_frame['amount_usd_millions'] = master_frame['raised_amount_usd'].apply(lambda x: round(x/1000000,2))"
   ]
  },
  {
   "cell_type": "code",
   "execution_count": 1593,
   "metadata": {},
   "outputs": [
    {
     "data": {
      "text/plain": [
       "0.00    0.00\n",
       "0.25    0.32\n",
       "0.50    1.68\n",
       "0.75    7.00\n",
       "Name: amount_usd_millions, dtype: float64"
      ]
     },
     "execution_count": 1593,
     "metadata": {},
     "output_type": "execute_result"
    }
   ],
   "source": [
    "#Find the median, 25 percentile, and 75 percentile of raised_amount_used\n",
    "master_frame.amount_usd_millions.quantile([0,0.25,0.5,0.75])"
   ]
  },
  {
   "cell_type": "code",
   "execution_count": 1594,
   "metadata": {},
   "outputs": [
    {
     "data": {
      "text/plain": [
       "10.426907928685933"
      ]
     },
     "execution_count": 1594,
     "metadata": {},
     "output_type": "execute_result"
    }
   ],
   "source": [
    "#Find Mean of raised_amount_used\n",
    "master_frame.amount_usd_millions.mean()"
   ]
  },
  {
   "cell_type": "code",
   "execution_count": 1595,
   "metadata": {},
   "outputs": [
    {
     "data": {
      "text/plain": [
       "0"
      ]
     },
     "execution_count": 1595,
     "metadata": {},
     "output_type": "execute_result"
    }
   ],
   "source": [
    "#Find funding_round_types of rows for which raised_amount_usd is null\n",
    "master_frame[master_frame.isnull()].funding_round_type.nunique()"
   ]
  },
  {
   "cell_type": "markdown",
   "metadata": {},
   "source": [
    "<i>Claerly we can't substitute values for null as there is huge variance between mean, 50% value. And one more column which is one of the dependency for analysis is null for all the rows where raised_amount_usd is null <br> Also we will be doing analysis on values of this column so it is better we drop the rows having null values</i>"
   ]
  },
  {
   "cell_type": "code",
   "execution_count": 1596,
   "metadata": {},
   "outputs": [],
   "source": [
    "#Companies for which raised_amount_usd is null\n",
    "master_frame = master_frame[~(master_frame.amount_usd_millions.isnull())]"
   ]
  },
  {
   "cell_type": "code",
   "execution_count": 1597,
   "metadata": {},
   "outputs": [
    {
     "data": {
      "text/html": [
       "<div>\n",
       "<style scoped>\n",
       "    .dataframe tbody tr th:only-of-type {\n",
       "        vertical-align: middle;\n",
       "    }\n",
       "\n",
       "    .dataframe tbody tr th {\n",
       "        vertical-align: top;\n",
       "    }\n",
       "\n",
       "    .dataframe thead th {\n",
       "        text-align: right;\n",
       "    }\n",
       "</style>\n",
       "<table border=\"1\" class=\"dataframe\">\n",
       "  <thead>\n",
       "    <tr style=\"text-align: right;\">\n",
       "      <th></th>\n",
       "      <th>funding_round_permalink</th>\n",
       "      <th>funding_round_type</th>\n",
       "      <th>funded_at</th>\n",
       "      <th>raised_amount_usd</th>\n",
       "      <th>permalink</th>\n",
       "      <th>name</th>\n",
       "      <th>homepage_url</th>\n",
       "      <th>category_list</th>\n",
       "      <th>status</th>\n",
       "      <th>country_code</th>\n",
       "      <th>state_code</th>\n",
       "      <th>region</th>\n",
       "      <th>city</th>\n",
       "      <th>founded_at</th>\n",
       "      <th>amount_usd_millions</th>\n",
       "    </tr>\n",
       "  </thead>\n",
       "  <tbody>\n",
       "    <tr>\n",
       "      <th>0</th>\n",
       "      <td>/funding-round/9a01d05418af9f794eebff7ace91f638</td>\n",
       "      <td>venture</td>\n",
       "      <td>05-01-2015</td>\n",
       "      <td>10000000.0</td>\n",
       "      <td>/ORGANIZATION/-FAME</td>\n",
       "      <td>#fame</td>\n",
       "      <td>http://livfame.com</td>\n",
       "      <td>Media</td>\n",
       "      <td>operating</td>\n",
       "      <td>IND</td>\n",
       "      <td>16</td>\n",
       "      <td>Mumbai</td>\n",
       "      <td>Mumbai</td>\n",
       "      <td>NaN</td>\n",
       "      <td>10.00</td>\n",
       "    </tr>\n",
       "    <tr>\n",
       "      <th>2</th>\n",
       "      <td>/funding-round/b44fbb94153f6cdef13083530bb48030</td>\n",
       "      <td>seed</td>\n",
       "      <td>01-03-2014</td>\n",
       "      <td>700000.0</td>\n",
       "      <td>/ORGANIZATION/-QOUNTER</td>\n",
       "      <td>:Qounter</td>\n",
       "      <td>http://www.qounter.com</td>\n",
       "      <td>Application Platforms|Real Time|Social Network...</td>\n",
       "      <td>operating</td>\n",
       "      <td>USA</td>\n",
       "      <td>DE</td>\n",
       "      <td>DE - Other</td>\n",
       "      <td>Delaware City</td>\n",
       "      <td>04-09-2014</td>\n",
       "      <td>0.70</td>\n",
       "    </tr>\n",
       "    <tr>\n",
       "      <th>3</th>\n",
       "      <td>/funding-round/650b8f704416801069bb178a1418776b</td>\n",
       "      <td>venture</td>\n",
       "      <td>30-01-2014</td>\n",
       "      <td>3406878.0</td>\n",
       "      <td>/ORGANIZATION/-THE-ONE-OF-THEM-INC-</td>\n",
       "      <td>(THE) ONE of THEM,Inc.</td>\n",
       "      <td>http://oneofthem.jp</td>\n",
       "      <td>Apps|Games|Mobile</td>\n",
       "      <td>operating</td>\n",
       "      <td>NaN</td>\n",
       "      <td>NaN</td>\n",
       "      <td>NaN</td>\n",
       "      <td>NaN</td>\n",
       "      <td>NaN</td>\n",
       "      <td>3.41</td>\n",
       "    </tr>\n",
       "    <tr>\n",
       "      <th>4</th>\n",
       "      <td>/funding-round/5727accaeaa57461bd22a9bdd945382d</td>\n",
       "      <td>venture</td>\n",
       "      <td>19-03-2008</td>\n",
       "      <td>2000000.0</td>\n",
       "      <td>/ORGANIZATION/0-6-COM</td>\n",
       "      <td>0-6.com</td>\n",
       "      <td>http://www.0-6.com</td>\n",
       "      <td>Curated Web</td>\n",
       "      <td>operating</td>\n",
       "      <td>CHN</td>\n",
       "      <td>22</td>\n",
       "      <td>Beijing</td>\n",
       "      <td>Beijing</td>\n",
       "      <td>01-01-2007</td>\n",
       "      <td>2.00</td>\n",
       "    </tr>\n",
       "    <tr>\n",
       "      <th>6</th>\n",
       "      <td>/funding-round/7d53696f2b4f607a2f2a8cbb83d01839</td>\n",
       "      <td>undisclosed</td>\n",
       "      <td>01-07-2014</td>\n",
       "      <td>41250.0</td>\n",
       "      <td>/ORGANIZATION/01GAMES-TECHNOLOGY</td>\n",
       "      <td>01Games Technology</td>\n",
       "      <td>http://www.01games.hk/</td>\n",
       "      <td>Games</td>\n",
       "      <td>operating</td>\n",
       "      <td>HKG</td>\n",
       "      <td>NaN</td>\n",
       "      <td>Hong Kong</td>\n",
       "      <td>Hong Kong</td>\n",
       "      <td>NaN</td>\n",
       "      <td>0.04</td>\n",
       "    </tr>\n",
       "  </tbody>\n",
       "</table>\n",
       "</div>"
      ],
      "text/plain": [
       "                           funding_round_permalink funding_round_type  \\\n",
       "0  /funding-round/9a01d05418af9f794eebff7ace91f638            venture   \n",
       "2  /funding-round/b44fbb94153f6cdef13083530bb48030               seed   \n",
       "3  /funding-round/650b8f704416801069bb178a1418776b            venture   \n",
       "4  /funding-round/5727accaeaa57461bd22a9bdd945382d            venture   \n",
       "6  /funding-round/7d53696f2b4f607a2f2a8cbb83d01839        undisclosed   \n",
       "\n",
       "    funded_at  raised_amount_usd                            permalink  \\\n",
       "0  05-01-2015         10000000.0                  /ORGANIZATION/-FAME   \n",
       "2  01-03-2014           700000.0               /ORGANIZATION/-QOUNTER   \n",
       "3  30-01-2014          3406878.0  /ORGANIZATION/-THE-ONE-OF-THEM-INC-   \n",
       "4  19-03-2008          2000000.0                /ORGANIZATION/0-6-COM   \n",
       "6  01-07-2014            41250.0     /ORGANIZATION/01GAMES-TECHNOLOGY   \n",
       "\n",
       "                     name            homepage_url  \\\n",
       "0                   #fame      http://livfame.com   \n",
       "2                :Qounter  http://www.qounter.com   \n",
       "3  (THE) ONE of THEM,Inc.     http://oneofthem.jp   \n",
       "4                 0-6.com      http://www.0-6.com   \n",
       "6      01Games Technology  http://www.01games.hk/   \n",
       "\n",
       "                                       category_list     status country_code  \\\n",
       "0                                              Media  operating          IND   \n",
       "2  Application Platforms|Real Time|Social Network...  operating          USA   \n",
       "3                                  Apps|Games|Mobile  operating          NaN   \n",
       "4                                        Curated Web  operating          CHN   \n",
       "6                                              Games  operating          HKG   \n",
       "\n",
       "  state_code      region           city  founded_at  amount_usd_millions  \n",
       "0         16      Mumbai         Mumbai         NaN                10.00  \n",
       "2         DE  DE - Other  Delaware City  04-09-2014                 0.70  \n",
       "3        NaN         NaN            NaN         NaN                 3.41  \n",
       "4         22     Beijing        Beijing  01-01-2007                 2.00  \n",
       "6        NaN   Hong Kong      Hong Kong         NaN                 0.04  "
      ]
     },
     "execution_count": 1597,
     "metadata": {},
     "output_type": "execute_result"
    }
   ],
   "source": [
    "#Display Top 5 Rows\n",
    "master_frame.head()"
   ]
  },
  {
   "cell_type": "code",
   "execution_count": 1598,
   "metadata": {},
   "outputs": [
    {
     "data": {
      "text/plain": [
       "(94959, 15)"
      ]
     },
     "execution_count": 1598,
     "metadata": {},
     "output_type": "execute_result"
    }
   ],
   "source": [
    "#Find Shape of the dataframe\n",
    "master_frame.shape"
   ]
  },
  {
   "cell_type": "code",
   "execution_count": 1599,
   "metadata": {},
   "outputs": [
    {
     "data": {
      "text/plain": [
       "funding_round_permalink        0\n",
       "funding_round_type             0\n",
       "funded_at                      0\n",
       "raised_amount_usd              0\n",
       "permalink                      0\n",
       "name                           1\n",
       "homepage_url                4332\n",
       "category_list               1044\n",
       "status                         0\n",
       "country_code                5851\n",
       "state_code                  7604\n",
       "region                      7048\n",
       "city                        7045\n",
       "founded_at                 15966\n",
       "amount_usd_millions            0\n",
       "dtype: int64"
      ]
     },
     "execution_count": 1599,
     "metadata": {},
     "output_type": "execute_result"
    }
   ],
   "source": [
    "## Check for null values in master_frame\n",
    "master_frame.isnull().sum()"
   ]
  },
  {
   "cell_type": "code",
   "execution_count": 1600,
   "metadata": {},
   "outputs": [
    {
     "data": {
      "text/html": [
       "<div>\n",
       "<style scoped>\n",
       "    .dataframe tbody tr th:only-of-type {\n",
       "        vertical-align: middle;\n",
       "    }\n",
       "\n",
       "    .dataframe tbody tr th {\n",
       "        vertical-align: top;\n",
       "    }\n",
       "\n",
       "    .dataframe thead th {\n",
       "        text-align: right;\n",
       "    }\n",
       "</style>\n",
       "<table border=\"1\" class=\"dataframe\">\n",
       "  <thead>\n",
       "    <tr style=\"text-align: right;\">\n",
       "      <th></th>\n",
       "      <th>funding_round_permalink</th>\n",
       "      <th>funding_round_type</th>\n",
       "      <th>funded_at</th>\n",
       "      <th>raised_amount_usd</th>\n",
       "      <th>permalink</th>\n",
       "      <th>name</th>\n",
       "      <th>homepage_url</th>\n",
       "      <th>category_list</th>\n",
       "      <th>status</th>\n",
       "      <th>country_code</th>\n",
       "      <th>state_code</th>\n",
       "      <th>region</th>\n",
       "      <th>city</th>\n",
       "      <th>founded_at</th>\n",
       "      <th>amount_usd_millions</th>\n",
       "    </tr>\n",
       "  </thead>\n",
       "  <tbody>\n",
       "    <tr>\n",
       "      <th>3</th>\n",
       "      <td>/funding-round/650b8f704416801069bb178a1418776b</td>\n",
       "      <td>venture</td>\n",
       "      <td>30-01-2014</td>\n",
       "      <td>3406878.0</td>\n",
       "      <td>/ORGANIZATION/-THE-ONE-OF-THEM-INC-</td>\n",
       "      <td>(THE) ONE of THEM,Inc.</td>\n",
       "      <td>http://oneofthem.jp</td>\n",
       "      <td>Apps|Games|Mobile</td>\n",
       "      <td>operating</td>\n",
       "      <td>NaN</td>\n",
       "      <td>NaN</td>\n",
       "      <td>NaN</td>\n",
       "      <td>NaN</td>\n",
       "      <td>NaN</td>\n",
       "      <td>3.41</td>\n",
       "    </tr>\n",
       "    <tr>\n",
       "      <th>32</th>\n",
       "      <td>/funding-round/854fae13c5b26b2ea6b32b06c2e5890c</td>\n",
       "      <td>angel</td>\n",
       "      <td>01-04-2010</td>\n",
       "      <td>43923865.0</td>\n",
       "      <td>/ORGANIZATION/1000CHI</td>\n",
       "      <td>Beijing 1000CHI Software Technology</td>\n",
       "      <td>http://www.1000chi.com/</td>\n",
       "      <td>Mobile</td>\n",
       "      <td>operating</td>\n",
       "      <td>NaN</td>\n",
       "      <td>NaN</td>\n",
       "      <td>NaN</td>\n",
       "      <td>NaN</td>\n",
       "      <td>01-01-2008</td>\n",
       "      <td>43.92</td>\n",
       "    </tr>\n",
       "    <tr>\n",
       "      <th>66</th>\n",
       "      <td>/funding-round/95401c8e8336892bf375ad94efd6c725</td>\n",
       "      <td>seed</td>\n",
       "      <td>04-09-2015</td>\n",
       "      <td>100000.0</td>\n",
       "      <td>/ORGANIZATION/10K-2</td>\n",
       "      <td>Beans Around</td>\n",
       "      <td>http://beansaround.com/</td>\n",
       "      <td>Coffee|Delivery|Subscription Service</td>\n",
       "      <td>operating</td>\n",
       "      <td>NaN</td>\n",
       "      <td>NaN</td>\n",
       "      <td>NaN</td>\n",
       "      <td>NaN</td>\n",
       "      <td>01-04-2015</td>\n",
       "      <td>0.10</td>\n",
       "    </tr>\n",
       "    <tr>\n",
       "      <th>95</th>\n",
       "      <td>/funding-round/6343322ed785252d4c5ada444fa7d8e4</td>\n",
       "      <td>venture</td>\n",
       "      <td>22-11-2013</td>\n",
       "      <td>150267.0</td>\n",
       "      <td>/ORGANIZATION/1234ENTER</td>\n",
       "      <td>1234ENTER</td>\n",
       "      <td>http://www.1234enter.com.br</td>\n",
       "      <td>Advertising|Analytics|Business Services|E-Comm...</td>\n",
       "      <td>operating</td>\n",
       "      <td>NaN</td>\n",
       "      <td>NaN</td>\n",
       "      <td>NaN</td>\n",
       "      <td>NaN</td>\n",
       "      <td>01-01-2012</td>\n",
       "      <td>0.15</td>\n",
       "    </tr>\n",
       "    <tr>\n",
       "      <th>96</th>\n",
       "      <td>/funding-round/ee6f9dea78c9a0697a500098a854564d</td>\n",
       "      <td>seed</td>\n",
       "      <td>01-09-2012</td>\n",
       "      <td>500000.0</td>\n",
       "      <td>/ORGANIZATION/1234ENTER</td>\n",
       "      <td>1234ENTER</td>\n",
       "      <td>http://www.1234enter.com.br</td>\n",
       "      <td>Advertising|Analytics|Business Services|E-Comm...</td>\n",
       "      <td>operating</td>\n",
       "      <td>NaN</td>\n",
       "      <td>NaN</td>\n",
       "      <td>NaN</td>\n",
       "      <td>NaN</td>\n",
       "      <td>01-01-2012</td>\n",
       "      <td>0.50</td>\n",
       "    </tr>\n",
       "    <tr>\n",
       "      <th>...</th>\n",
       "      <td>...</td>\n",
       "      <td>...</td>\n",
       "      <td>...</td>\n",
       "      <td>...</td>\n",
       "      <td>...</td>\n",
       "      <td>...</td>\n",
       "      <td>...</td>\n",
       "      <td>...</td>\n",
       "      <td>...</td>\n",
       "      <td>...</td>\n",
       "      <td>...</td>\n",
       "      <td>...</td>\n",
       "      <td>...</td>\n",
       "      <td>...</td>\n",
       "      <td>...</td>\n",
       "    </tr>\n",
       "    <tr>\n",
       "      <th>114752</th>\n",
       "      <td>/funding-round/e8fa50bcf4086dc88c07a901258b8b4f</td>\n",
       "      <td>seed</td>\n",
       "      <td>20-06-2011</td>\n",
       "      <td>40000.0</td>\n",
       "      <td>/ORGANIZATION/ZUGGI</td>\n",
       "      <td>ZUGGI</td>\n",
       "      <td>http://www.zuggi.com.br/home.php</td>\n",
       "      <td>Search</td>\n",
       "      <td>operating</td>\n",
       "      <td>NaN</td>\n",
       "      <td>NaN</td>\n",
       "      <td>NaN</td>\n",
       "      <td>NaN</td>\n",
       "      <td>01-11-2010</td>\n",
       "      <td>0.04</td>\n",
       "    </tr>\n",
       "    <tr>\n",
       "      <th>114835</th>\n",
       "      <td>/funding-round/785ed8667f9d950257f94089050d6eb0</td>\n",
       "      <td>angel</td>\n",
       "      <td>16-09-2014</td>\n",
       "      <td>200000.0</td>\n",
       "      <td>/ORGANIZATION/ZUUMTEL</td>\n",
       "      <td>ZUUMTEL</td>\n",
       "      <td>http://www.zuumtel.com</td>\n",
       "      <td>Automotive|Design|Real Time</td>\n",
       "      <td>closed</td>\n",
       "      <td>NaN</td>\n",
       "      <td>NaN</td>\n",
       "      <td>NaN</td>\n",
       "      <td>NaN</td>\n",
       "      <td>16-09-2014</td>\n",
       "      <td>0.20</td>\n",
       "    </tr>\n",
       "    <tr>\n",
       "      <th>114836</th>\n",
       "      <td>/funding-round/d5d97d7c8a5e923715b15495d44e7cb8</td>\n",
       "      <td>seed</td>\n",
       "      <td>01-04-2013</td>\n",
       "      <td>100000.0</td>\n",
       "      <td>/ORGANIZATION/ZUUMTEL</td>\n",
       "      <td>ZUUMTEL</td>\n",
       "      <td>http://www.zuumtel.com</td>\n",
       "      <td>Automotive|Design|Real Time</td>\n",
       "      <td>closed</td>\n",
       "      <td>NaN</td>\n",
       "      <td>NaN</td>\n",
       "      <td>NaN</td>\n",
       "      <td>NaN</td>\n",
       "      <td>16-09-2014</td>\n",
       "      <td>0.10</td>\n",
       "    </tr>\n",
       "    <tr>\n",
       "      <th>114849</th>\n",
       "      <td>/funding-round/eb5163bb6feea4384121e27699bb7b25</td>\n",
       "      <td>seed</td>\n",
       "      <td>01-09-2014</td>\n",
       "      <td>60000.0</td>\n",
       "      <td>/ORGANIZATION/ZWAYO-\"ON-DEMAND-VALET-PARKING\"</td>\n",
       "      <td>Zwayo \"On-Demand Valet Parking\"</td>\n",
       "      <td>http://www.zwayo.co</td>\n",
       "      <td>Apps|Cars|Parking</td>\n",
       "      <td>operating</td>\n",
       "      <td>NaN</td>\n",
       "      <td>NaN</td>\n",
       "      <td>NaN</td>\n",
       "      <td>NaN</td>\n",
       "      <td>01-09-2014</td>\n",
       "      <td>0.06</td>\n",
       "    </tr>\n",
       "    <tr>\n",
       "      <th>114948</th>\n",
       "      <td>/funding-round/af942869878d2cd788ef5189b435ebc4</td>\n",
       "      <td>grant</td>\n",
       "      <td>01-10-2013</td>\n",
       "      <td>14851.0</td>\n",
       "      <td>/ORGANIZATION/Ä°NOVATIFF-REKLAM-VE-TANÄ±TÄ±M-H...</td>\n",
       "      <td>Ä°novatiff Reklam ve TanÄ±tÄ±m Hizmetleri Tic</td>\n",
       "      <td>http://inovatiff.com</td>\n",
       "      <td>Consumer Goods|E-Commerce|Internet</td>\n",
       "      <td>operating</td>\n",
       "      <td>NaN</td>\n",
       "      <td>NaN</td>\n",
       "      <td>NaN</td>\n",
       "      <td>NaN</td>\n",
       "      <td>NaN</td>\n",
       "      <td>0.01</td>\n",
       "    </tr>\n",
       "  </tbody>\n",
       "</table>\n",
       "<p>5851 rows × 15 columns</p>\n",
       "</div>"
      ],
      "text/plain": [
       "                                funding_round_permalink funding_round_type  \\\n",
       "3       /funding-round/650b8f704416801069bb178a1418776b            venture   \n",
       "32      /funding-round/854fae13c5b26b2ea6b32b06c2e5890c              angel   \n",
       "66      /funding-round/95401c8e8336892bf375ad94efd6c725               seed   \n",
       "95      /funding-round/6343322ed785252d4c5ada444fa7d8e4            venture   \n",
       "96      /funding-round/ee6f9dea78c9a0697a500098a854564d               seed   \n",
       "...                                                 ...                ...   \n",
       "114752  /funding-round/e8fa50bcf4086dc88c07a901258b8b4f               seed   \n",
       "114835  /funding-round/785ed8667f9d950257f94089050d6eb0              angel   \n",
       "114836  /funding-round/d5d97d7c8a5e923715b15495d44e7cb8               seed   \n",
       "114849  /funding-round/eb5163bb6feea4384121e27699bb7b25               seed   \n",
       "114948  /funding-round/af942869878d2cd788ef5189b435ebc4              grant   \n",
       "\n",
       "         funded_at  raised_amount_usd  \\\n",
       "3       30-01-2014          3406878.0   \n",
       "32      01-04-2010         43923865.0   \n",
       "66      04-09-2015           100000.0   \n",
       "95      22-11-2013           150267.0   \n",
       "96      01-09-2012           500000.0   \n",
       "...            ...                ...   \n",
       "114752  20-06-2011            40000.0   \n",
       "114835  16-09-2014           200000.0   \n",
       "114836  01-04-2013           100000.0   \n",
       "114849  01-09-2014            60000.0   \n",
       "114948  01-10-2013            14851.0   \n",
       "\n",
       "                                                permalink  \\\n",
       "3                     /ORGANIZATION/-THE-ONE-OF-THEM-INC-   \n",
       "32                                  /ORGANIZATION/1000CHI   \n",
       "66                                    /ORGANIZATION/10K-2   \n",
       "95                                /ORGANIZATION/1234ENTER   \n",
       "96                                /ORGANIZATION/1234ENTER   \n",
       "...                                                   ...   \n",
       "114752                                /ORGANIZATION/ZUGGI   \n",
       "114835                              /ORGANIZATION/ZUUMTEL   \n",
       "114836                              /ORGANIZATION/ZUUMTEL   \n",
       "114849      /ORGANIZATION/ZWAYO-\"ON-DEMAND-VALET-PARKING\"   \n",
       "114948  /ORGANIZATION/Ä°NOVATIFF-REKLAM-VE-TANÄ±TÄ±M-H...   \n",
       "\n",
       "                                                 name  \\\n",
       "3                              (THE) ONE of THEM,Inc.   \n",
       "32                Beijing 1000CHI Software Technology   \n",
       "66                                       Beans Around   \n",
       "95                                          1234ENTER   \n",
       "96                                          1234ENTER   \n",
       "...                                               ...   \n",
       "114752                                          ZUGGI   \n",
       "114835                                        ZUUMTEL   \n",
       "114836                                        ZUUMTEL   \n",
       "114849                Zwayo \"On-Demand Valet Parking\"   \n",
       "114948  Ä°novatiff Reklam ve TanÄ±tÄ±m Hizmetleri Tic   \n",
       "\n",
       "                            homepage_url  \\\n",
       "3                    http://oneofthem.jp   \n",
       "32               http://www.1000chi.com/   \n",
       "66               http://beansaround.com/   \n",
       "95           http://www.1234enter.com.br   \n",
       "96           http://www.1234enter.com.br   \n",
       "...                                  ...   \n",
       "114752  http://www.zuggi.com.br/home.php   \n",
       "114835            http://www.zuumtel.com   \n",
       "114836            http://www.zuumtel.com   \n",
       "114849               http://www.zwayo.co   \n",
       "114948              http://inovatiff.com   \n",
       "\n",
       "                                            category_list     status  \\\n",
       "3                                       Apps|Games|Mobile  operating   \n",
       "32                                                 Mobile  operating   \n",
       "66                   Coffee|Delivery|Subscription Service  operating   \n",
       "95      Advertising|Analytics|Business Services|E-Comm...  operating   \n",
       "96      Advertising|Analytics|Business Services|E-Comm...  operating   \n",
       "...                                                   ...        ...   \n",
       "114752                                             Search  operating   \n",
       "114835                        Automotive|Design|Real Time     closed   \n",
       "114836                        Automotive|Design|Real Time     closed   \n",
       "114849                                  Apps|Cars|Parking  operating   \n",
       "114948                 Consumer Goods|E-Commerce|Internet  operating   \n",
       "\n",
       "       country_code state_code region city  founded_at  amount_usd_millions  \n",
       "3               NaN        NaN    NaN  NaN         NaN                 3.41  \n",
       "32              NaN        NaN    NaN  NaN  01-01-2008                43.92  \n",
       "66              NaN        NaN    NaN  NaN  01-04-2015                 0.10  \n",
       "95              NaN        NaN    NaN  NaN  01-01-2012                 0.15  \n",
       "96              NaN        NaN    NaN  NaN  01-01-2012                 0.50  \n",
       "...             ...        ...    ...  ...         ...                  ...  \n",
       "114752          NaN        NaN    NaN  NaN  01-11-2010                 0.04  \n",
       "114835          NaN        NaN    NaN  NaN  16-09-2014                 0.20  \n",
       "114836          NaN        NaN    NaN  NaN  16-09-2014                 0.10  \n",
       "114849          NaN        NaN    NaN  NaN  01-09-2014                 0.06  \n",
       "114948          NaN        NaN    NaN  NaN         NaN                 0.01  \n",
       "\n",
       "[5851 rows x 15 columns]"
      ]
     },
     "execution_count": 1600,
     "metadata": {},
     "output_type": "execute_result"
    }
   ],
   "source": [
    "#Find comapnies for which country code is not present\n",
    "master_frame[master_frame.country_code.isnull()]"
   ]
  },
  {
   "cell_type": "markdown",
   "metadata": {},
   "source": [
    "Assuming that we can fetch country code based on either state code, region or city  lets find out the number of rows for which all the mentioned values are null and lets try to figure out country for others."
   ]
  },
  {
   "cell_type": "code",
   "execution_count": 1601,
   "metadata": {},
   "outputs": [
    {
     "data": {
      "text/plain": [
       "5851"
      ]
     },
     "execution_count": 1601,
     "metadata": {},
     "output_type": "execute_result"
    }
   ],
   "source": [
    "#Find number of rows for which country_code,state_code, city, Region are null\n",
    "(master_frame.country_code.isnull() & master_frame.state_code.isnull() & master_frame.region.isnull() & master_frame.city.isnull()).sum()"
   ]
  },
  {
   "cell_type": "markdown",
   "metadata": {},
   "source": [
    "The above number is same as number of null country_code values. So delete all the rows for which country code is null."
   ]
  },
  {
   "cell_type": "code",
   "execution_count": 1602,
   "metadata": {},
   "outputs": [],
   "source": [
    "#Drop rows for which all country_code are null\n",
    "master_frame = master_frame[~(master_frame.country_code.isnull())]"
   ]
  },
  {
   "cell_type": "code",
   "execution_count": 1603,
   "metadata": {},
   "outputs": [
    {
     "data": {
      "text/plain": [
       "(89108, 15)"
      ]
     },
     "execution_count": 1603,
     "metadata": {},
     "output_type": "execute_result"
    }
   ],
   "source": [
    "#Find shape of dataframe\n",
    "master_frame.shape"
   ]
  },
  {
   "cell_type": "code",
   "execution_count": 1604,
   "metadata": {},
   "outputs": [
    {
     "data": {
      "text/plain": [
       "funding_round_permalink        0\n",
       "funding_round_type             0\n",
       "funded_at                      0\n",
       "raised_amount_usd              0\n",
       "permalink                      0\n",
       "name                           1\n",
       "homepage_url                3378\n",
       "category_list                579\n",
       "status                         0\n",
       "country_code                   0\n",
       "state_code                  1753\n",
       "region                      1197\n",
       "city                        1194\n",
       "founded_at                 13658\n",
       "amount_usd_millions            0\n",
       "dtype: int64"
      ]
     },
     "execution_count": 1604,
     "metadata": {},
     "output_type": "execute_result"
    }
   ],
   "source": [
    "#Find number of null values in columns\n",
    "master_frame.isnull().sum()"
   ]
  },
  {
   "cell_type": "markdown",
   "metadata": {},
   "source": [
    "We don't require columns state_code , region , city anymore as country is determined and we would be analysing for English speaking countries based on country_code"
   ]
  },
  {
   "cell_type": "code",
   "execution_count": 1605,
   "metadata": {},
   "outputs": [],
   "source": [
    "# Drop state_code , region, city columns\n",
    "master_frame = master_frame.drop(['state_code','region','city'],axis=1)"
   ]
  },
  {
   "cell_type": "code",
   "execution_count": 1606,
   "metadata": {},
   "outputs": [
    {
     "name": "stdout",
     "output_type": "stream",
     "text": [
      "(89108, 12)\n"
     ]
    },
    {
     "data": {
      "text/plain": [
       "funding_round_permalink        0\n",
       "funding_round_type             0\n",
       "funded_at                      0\n",
       "raised_amount_usd              0\n",
       "permalink                      0\n",
       "name                           1\n",
       "homepage_url                3378\n",
       "category_list                579\n",
       "status                         0\n",
       "country_code                   0\n",
       "founded_at                 13658\n",
       "amount_usd_millions            0\n",
       "dtype: int64"
      ]
     },
     "execution_count": 1606,
     "metadata": {},
     "output_type": "execute_result"
    }
   ],
   "source": [
    "#Find shape of master_frame\n",
    "print(master_frame.shape)\n",
    "\n",
    "#Find number of null values in rows of data frame\n",
    "master_frame.isnull().sum()"
   ]
  },
  {
   "cell_type": "markdown",
   "metadata": {},
   "source": [
    "We are also not interested in founded_at and homepage_url columns. so dropping those columns"
   ]
  },
  {
   "cell_type": "code",
   "execution_count": 1607,
   "metadata": {},
   "outputs": [],
   "source": [
    "#Drop Columns founded_at and homepage_url\n",
    "master_frame = master_frame.drop(['founded_at','homepage_url'],axis=1)"
   ]
  },
  {
   "cell_type": "code",
   "execution_count": 1608,
   "metadata": {},
   "outputs": [
    {
     "data": {
      "text/plain": [
       "(89108, 10)"
      ]
     },
     "execution_count": 1608,
     "metadata": {},
     "output_type": "execute_result"
    }
   ],
   "source": [
    "# Find shape of master_frame\n",
    "master_frame.shape"
   ]
  },
  {
   "cell_type": "code",
   "execution_count": 1609,
   "metadata": {},
   "outputs": [
    {
     "data": {
      "text/plain": [
       "funding_round_permalink      0\n",
       "funding_round_type           0\n",
       "funded_at                    0\n",
       "raised_amount_usd            0\n",
       "permalink                    0\n",
       "name                         1\n",
       "category_list              579\n",
       "status                       0\n",
       "country_code                 0\n",
       "amount_usd_millions          0\n",
       "dtype: int64"
      ]
     },
     "execution_count": 1609,
     "metadata": {},
     "output_type": "execute_result"
    }
   ],
   "source": [
    "#View the sum of remaining null values in columns\n",
    "master_frame.isnull().sum()"
   ]
  },
  {
   "cell_type": "code",
   "execution_count": 1610,
   "metadata": {},
   "outputs": [
    {
     "data": {
      "text/html": [
       "<div>\n",
       "<style scoped>\n",
       "    .dataframe tbody tr th:only-of-type {\n",
       "        vertical-align: middle;\n",
       "    }\n",
       "\n",
       "    .dataframe tbody tr th {\n",
       "        vertical-align: top;\n",
       "    }\n",
       "\n",
       "    .dataframe thead th {\n",
       "        text-align: right;\n",
       "    }\n",
       "</style>\n",
       "<table border=\"1\" class=\"dataframe\">\n",
       "  <thead>\n",
       "    <tr style=\"text-align: right;\">\n",
       "      <th></th>\n",
       "      <th>permalink</th>\n",
       "      <th>name</th>\n",
       "    </tr>\n",
       "  </thead>\n",
       "  <tbody>\n",
       "    <tr>\n",
       "      <th>0</th>\n",
       "      <td>/ORGANIZATION/-FAME</td>\n",
       "      <td>#fame</td>\n",
       "    </tr>\n",
       "    <tr>\n",
       "      <th>2</th>\n",
       "      <td>/ORGANIZATION/-QOUNTER</td>\n",
       "      <td>:Qounter</td>\n",
       "    </tr>\n",
       "    <tr>\n",
       "      <th>4</th>\n",
       "      <td>/ORGANIZATION/0-6-COM</td>\n",
       "      <td>0-6.com</td>\n",
       "    </tr>\n",
       "    <tr>\n",
       "      <th>6</th>\n",
       "      <td>/ORGANIZATION/01GAMES-TECHNOLOGY</td>\n",
       "      <td>01Games Technology</td>\n",
       "    </tr>\n",
       "    <tr>\n",
       "      <th>7</th>\n",
       "      <td>/ORGANIZATION/0NDINE-BIOMEDICAL-INC</td>\n",
       "      <td>Ondine Biomedical Inc.</td>\n",
       "    </tr>\n",
       "    <tr>\n",
       "      <th>...</th>\n",
       "      <td>...</td>\n",
       "      <td>...</td>\n",
       "    </tr>\n",
       "    <tr>\n",
       "      <th>114942</th>\n",
       "      <td>/ORGANIZATION/ZZZZAPP-COM</td>\n",
       "      <td>Zzzzapp Wireless ltd.</td>\n",
       "    </tr>\n",
       "    <tr>\n",
       "      <th>114943</th>\n",
       "      <td>/ORGANIZATION/ZZZZAPP-COM</td>\n",
       "      <td>Zzzzapp Wireless ltd.</td>\n",
       "    </tr>\n",
       "    <tr>\n",
       "      <th>114944</th>\n",
       "      <td>/ORGANIZATION/ZZZZAPP-COM</td>\n",
       "      <td>Zzzzapp Wireless ltd.</td>\n",
       "    </tr>\n",
       "    <tr>\n",
       "      <th>114945</th>\n",
       "      <td>/ORGANIZATION/ZZZZAPP-COM</td>\n",
       "      <td>Zzzzapp Wireless ltd.</td>\n",
       "    </tr>\n",
       "    <tr>\n",
       "      <th>114947</th>\n",
       "      <td>/ORGANIZATION/Ã”ASYS-2</td>\n",
       "      <td>Ã”asys</td>\n",
       "    </tr>\n",
       "  </tbody>\n",
       "</table>\n",
       "<p>89108 rows × 2 columns</p>\n",
       "</div>"
      ],
      "text/plain": [
       "                                  permalink                    name\n",
       "0                       /ORGANIZATION/-FAME                   #fame\n",
       "2                    /ORGANIZATION/-QOUNTER                :Qounter\n",
       "4                     /ORGANIZATION/0-6-COM                 0-6.com\n",
       "6          /ORGANIZATION/01GAMES-TECHNOLOGY      01Games Technology\n",
       "7       /ORGANIZATION/0NDINE-BIOMEDICAL-INC  Ondine Biomedical Inc.\n",
       "...                                     ...                     ...\n",
       "114942            /ORGANIZATION/ZZZZAPP-COM   Zzzzapp Wireless ltd.\n",
       "114943            /ORGANIZATION/ZZZZAPP-COM   Zzzzapp Wireless ltd.\n",
       "114944            /ORGANIZATION/ZZZZAPP-COM   Zzzzapp Wireless ltd.\n",
       "114945            /ORGANIZATION/ZZZZAPP-COM   Zzzzapp Wireless ltd.\n",
       "114947               /ORGANIZATION/Ã”ASYS-2                  Ã”asys\n",
       "\n",
       "[89108 rows x 2 columns]"
      ]
     },
     "execution_count": 1610,
     "metadata": {},
     "output_type": "execute_result"
    }
   ],
   "source": [
    "# Display permalink and name columns for comparison\n",
    "master_frame[['permalink','name']]"
   ]
  },
  {
   "cell_type": "code",
   "execution_count": 1611,
   "metadata": {},
   "outputs": [
    {
     "data": {
      "text/html": [
       "<div>\n",
       "<style scoped>\n",
       "    .dataframe tbody tr th:only-of-type {\n",
       "        vertical-align: middle;\n",
       "    }\n",
       "\n",
       "    .dataframe tbody tr th {\n",
       "        vertical-align: top;\n",
       "    }\n",
       "\n",
       "    .dataframe thead th {\n",
       "        text-align: right;\n",
       "    }\n",
       "</style>\n",
       "<table border=\"1\" class=\"dataframe\">\n",
       "  <thead>\n",
       "    <tr style=\"text-align: right;\">\n",
       "      <th></th>\n",
       "      <th>funding_round_permalink</th>\n",
       "      <th>funding_round_type</th>\n",
       "      <th>funded_at</th>\n",
       "      <th>raised_amount_usd</th>\n",
       "      <th>permalink</th>\n",
       "      <th>name</th>\n",
       "      <th>category_list</th>\n",
       "      <th>status</th>\n",
       "      <th>country_code</th>\n",
       "      <th>amount_usd_millions</th>\n",
       "    </tr>\n",
       "  </thead>\n",
       "  <tbody>\n",
       "    <tr>\n",
       "      <th>98692</th>\n",
       "      <td>/funding-round/9c987e616755a78c51a4aa67c27a2a93</td>\n",
       "      <td>seed</td>\n",
       "      <td>01-03-2012</td>\n",
       "      <td>25000.0</td>\n",
       "      <td>/ORGANIZATION/TELL-IT-IN</td>\n",
       "      <td>NaN</td>\n",
       "      <td>Startups</td>\n",
       "      <td>closed</td>\n",
       "      <td>USA</td>\n",
       "      <td>0.03</td>\n",
       "    </tr>\n",
       "  </tbody>\n",
       "</table>\n",
       "</div>"
      ],
      "text/plain": [
       "                               funding_round_permalink funding_round_type  \\\n",
       "98692  /funding-round/9c987e616755a78c51a4aa67c27a2a93               seed   \n",
       "\n",
       "        funded_at  raised_amount_usd                 permalink name  \\\n",
       "98692  01-03-2012            25000.0  /ORGANIZATION/TELL-IT-IN  NaN   \n",
       "\n",
       "      category_list  status country_code  amount_usd_millions  \n",
       "98692      Startups  closed          USA                 0.03  "
      ]
     },
     "execution_count": 1611,
     "metadata": {},
     "output_type": "execute_result"
    }
   ],
   "source": [
    "#Display row for which name is null\n",
    "master_frame[master_frame.name.isnull()]"
   ]
  },
  {
   "cell_type": "markdown",
   "metadata": {},
   "source": [
    "As we observed the name of the company has close relationship with permalink so imputing the name "
   ]
  },
  {
   "cell_type": "code",
   "execution_count": 1612,
   "metadata": {},
   "outputs": [],
   "source": [
    "#impute name into missing name field\n",
    "master_frame.loc[98692,'name'] = master_frame.loc[98692,'permalink'].split(\"/\")[-1]"
   ]
  },
  {
   "cell_type": "code",
   "execution_count": 1613,
   "metadata": {},
   "outputs": [
    {
     "data": {
      "text/plain": [
       "'TELL-IT-IN'"
      ]
     },
     "execution_count": 1613,
     "metadata": {},
     "output_type": "execute_result"
    }
   ],
   "source": [
    "# Check value in that row\n",
    "master_frame.loc[98692,'name']"
   ]
  },
  {
   "cell_type": "markdown",
   "metadata": {},
   "source": [
    "Spark funds is also interested in investing in particular Category . So We can't have null values in Category. So removing rows where category_list is null"
   ]
  },
  {
   "cell_type": "code",
   "execution_count": 1614,
   "metadata": {},
   "outputs": [
    {
     "data": {
      "text/plain": [
       "funding_round_permalink    0\n",
       "funding_round_type         0\n",
       "funded_at                  0\n",
       "raised_amount_usd          0\n",
       "permalink                  0\n",
       "name                       0\n",
       "category_list              0\n",
       "status                     0\n",
       "country_code               0\n",
       "amount_usd_millions        0\n",
       "dtype: int64"
      ]
     },
     "execution_count": 1614,
     "metadata": {},
     "output_type": "execute_result"
    }
   ],
   "source": [
    "# Remove rows where category_list is null\n",
    "master_frame = master_frame[~master_frame.category_list.isnull()]\n",
    "\n",
    "#Check if there are any null values\n",
    "master_frame.isnull().sum()"
   ]
  },
  {
   "cell_type": "code",
   "execution_count": 1615,
   "metadata": {},
   "outputs": [
    {
     "data": {
      "text/plain": [
       "(88529, 10)"
      ]
     },
     "execution_count": 1615,
     "metadata": {},
     "output_type": "execute_result"
    }
   ],
   "source": [
    "#Check shape of master_frame\n",
    "master_frame.shape"
   ]
  },
  {
   "cell_type": "markdown",
   "metadata": {},
   "source": [
    "We are interested only in few columns namely category_list,country_code ,amount_usd_millions, funding_round_type as spark funds is interested only in funding_type and sector needed to be invested in"
   ]
  },
  {
   "cell_type": "code",
   "execution_count": 1616,
   "metadata": {},
   "outputs": [],
   "source": [
    "# Create datframe with only required fields\n",
    "master_frame = master_frame[[ 'name','category_list', 'country_code' ,'amount_usd_millions','funding_round_type']]"
   ]
  },
  {
   "cell_type": "code",
   "execution_count": 1617,
   "metadata": {},
   "outputs": [
    {
     "data": {
      "text/html": [
       "<div>\n",
       "<style scoped>\n",
       "    .dataframe tbody tr th:only-of-type {\n",
       "        vertical-align: middle;\n",
       "    }\n",
       "\n",
       "    .dataframe tbody tr th {\n",
       "        vertical-align: top;\n",
       "    }\n",
       "\n",
       "    .dataframe thead th {\n",
       "        text-align: right;\n",
       "    }\n",
       "</style>\n",
       "<table border=\"1\" class=\"dataframe\">\n",
       "  <thead>\n",
       "    <tr style=\"text-align: right;\">\n",
       "      <th></th>\n",
       "      <th>name</th>\n",
       "      <th>category_list</th>\n",
       "      <th>country_code</th>\n",
       "      <th>amount_usd_millions</th>\n",
       "      <th>funding_round_type</th>\n",
       "    </tr>\n",
       "  </thead>\n",
       "  <tbody>\n",
       "    <tr>\n",
       "      <th>0</th>\n",
       "      <td>#fame</td>\n",
       "      <td>Media</td>\n",
       "      <td>IND</td>\n",
       "      <td>10.00</td>\n",
       "      <td>venture</td>\n",
       "    </tr>\n",
       "    <tr>\n",
       "      <th>2</th>\n",
       "      <td>:Qounter</td>\n",
       "      <td>Application Platforms|Real Time|Social Network...</td>\n",
       "      <td>USA</td>\n",
       "      <td>0.70</td>\n",
       "      <td>seed</td>\n",
       "    </tr>\n",
       "    <tr>\n",
       "      <th>4</th>\n",
       "      <td>0-6.com</td>\n",
       "      <td>Curated Web</td>\n",
       "      <td>CHN</td>\n",
       "      <td>2.00</td>\n",
       "      <td>venture</td>\n",
       "    </tr>\n",
       "    <tr>\n",
       "      <th>6</th>\n",
       "      <td>01Games Technology</td>\n",
       "      <td>Games</td>\n",
       "      <td>HKG</td>\n",
       "      <td>0.04</td>\n",
       "      <td>undisclosed</td>\n",
       "    </tr>\n",
       "    <tr>\n",
       "      <th>7</th>\n",
       "      <td>Ondine Biomedical Inc.</td>\n",
       "      <td>Biotechnology</td>\n",
       "      <td>CAN</td>\n",
       "      <td>0.04</td>\n",
       "      <td>seed</td>\n",
       "    </tr>\n",
       "  </tbody>\n",
       "</table>\n",
       "</div>"
      ],
      "text/plain": [
       "                     name                                      category_list  \\\n",
       "0                   #fame                                              Media   \n",
       "2                :Qounter  Application Platforms|Real Time|Social Network...   \n",
       "4                 0-6.com                                        Curated Web   \n",
       "6      01Games Technology                                              Games   \n",
       "7  Ondine Biomedical Inc.                                      Biotechnology   \n",
       "\n",
       "  country_code  amount_usd_millions funding_round_type  \n",
       "0          IND                10.00            venture  \n",
       "2          USA                 0.70               seed  \n",
       "4          CHN                 2.00            venture  \n",
       "6          HKG                 0.04        undisclosed  \n",
       "7          CAN                 0.04               seed  "
      ]
     },
     "execution_count": 1617,
     "metadata": {},
     "output_type": "execute_result"
    }
   ],
   "source": [
    "#Display top 5 rows\n",
    "master_frame.head()"
   ]
  },
  {
   "cell_type": "markdown",
   "metadata": {},
   "source": [
    "<b>Spark Funds wants to choose one of these four investment types namely venture, angel, seed, and private equity for each potential investment they will make.</b>"
   ]
  },
  {
   "cell_type": "code",
   "execution_count": 1618,
   "metadata": {},
   "outputs": [
    {
     "data": {
      "text/html": [
       "<div>\n",
       "<style scoped>\n",
       "    .dataframe tbody tr th:only-of-type {\n",
       "        vertical-align: middle;\n",
       "    }\n",
       "\n",
       "    .dataframe tbody tr th {\n",
       "        vertical-align: top;\n",
       "    }\n",
       "\n",
       "    .dataframe thead th {\n",
       "        text-align: right;\n",
       "    }\n",
       "</style>\n",
       "<table border=\"1\" class=\"dataframe\">\n",
       "  <thead>\n",
       "    <tr style=\"text-align: right;\">\n",
       "      <th></th>\n",
       "      <th>name</th>\n",
       "      <th>category_list</th>\n",
       "      <th>country_code</th>\n",
       "      <th>amount_usd_millions</th>\n",
       "      <th>funding_round_type</th>\n",
       "    </tr>\n",
       "  </thead>\n",
       "  <tbody>\n",
       "    <tr>\n",
       "      <th>0</th>\n",
       "      <td>#fame</td>\n",
       "      <td>Media</td>\n",
       "      <td>IND</td>\n",
       "      <td>10.00</td>\n",
       "      <td>venture</td>\n",
       "    </tr>\n",
       "    <tr>\n",
       "      <th>2</th>\n",
       "      <td>:Qounter</td>\n",
       "      <td>Application Platforms|Real Time|Social Network...</td>\n",
       "      <td>USA</td>\n",
       "      <td>0.70</td>\n",
       "      <td>seed</td>\n",
       "    </tr>\n",
       "    <tr>\n",
       "      <th>4</th>\n",
       "      <td>0-6.com</td>\n",
       "      <td>Curated Web</td>\n",
       "      <td>CHN</td>\n",
       "      <td>2.00</td>\n",
       "      <td>venture</td>\n",
       "    </tr>\n",
       "    <tr>\n",
       "      <th>7</th>\n",
       "      <td>Ondine Biomedical Inc.</td>\n",
       "      <td>Biotechnology</td>\n",
       "      <td>CAN</td>\n",
       "      <td>0.04</td>\n",
       "      <td>seed</td>\n",
       "    </tr>\n",
       "    <tr>\n",
       "      <th>8</th>\n",
       "      <td>Ondine Biomedical Inc.</td>\n",
       "      <td>Biotechnology</td>\n",
       "      <td>CAN</td>\n",
       "      <td>0.72</td>\n",
       "      <td>venture</td>\n",
       "    </tr>\n",
       "  </tbody>\n",
       "</table>\n",
       "</div>"
      ],
      "text/plain": [
       "                     name                                      category_list  \\\n",
       "0                   #fame                                              Media   \n",
       "2                :Qounter  Application Platforms|Real Time|Social Network...   \n",
       "4                 0-6.com                                        Curated Web   \n",
       "7  Ondine Biomedical Inc.                                      Biotechnology   \n",
       "8  Ondine Biomedical Inc.                                      Biotechnology   \n",
       "\n",
       "  country_code  amount_usd_millions funding_round_type  \n",
       "0          IND                10.00            venture  \n",
       "2          USA                 0.70               seed  \n",
       "4          CHN                 2.00            venture  \n",
       "7          CAN                 0.04               seed  \n",
       "8          CAN                 0.72            venture  "
      ]
     },
     "execution_count": 1618,
     "metadata": {},
     "output_type": "execute_result"
    }
   ],
   "source": [
    "# Create a new master frame with only desired funding_round_type\n",
    "master_frame = master_frame[(master_frame.funding_round_type.isin(['venture','angel','seed','private_equity']))]\n",
    "\n",
    "# Display top 5 rows\n",
    "master_frame.head()"
   ]
  },
  {
   "cell_type": "code",
   "execution_count": 1619,
   "metadata": {},
   "outputs": [
    {
     "data": {
      "text/html": [
       "<div>\n",
       "<style scoped>\n",
       "    .dataframe tbody tr th:only-of-type {\n",
       "        vertical-align: middle;\n",
       "    }\n",
       "\n",
       "    .dataframe tbody tr th {\n",
       "        vertical-align: top;\n",
       "    }\n",
       "\n",
       "    .dataframe thead th {\n",
       "        text-align: right;\n",
       "    }\n",
       "</style>\n",
       "<table border=\"1\" class=\"dataframe\">\n",
       "  <thead>\n",
       "    <tr style=\"text-align: right;\">\n",
       "      <th></th>\n",
       "      <th>count</th>\n",
       "      <th>mean</th>\n",
       "      <th>std</th>\n",
       "      <th>min</th>\n",
       "      <th>25%</th>\n",
       "      <th>50%</th>\n",
       "      <th>75%</th>\n",
       "      <th>max</th>\n",
       "    </tr>\n",
       "    <tr>\n",
       "      <th>funding_round_type</th>\n",
       "      <th></th>\n",
       "      <th></th>\n",
       "      <th></th>\n",
       "      <th></th>\n",
       "      <th></th>\n",
       "      <th></th>\n",
       "      <th></th>\n",
       "      <th></th>\n",
       "    </tr>\n",
       "  </thead>\n",
       "  <tbody>\n",
       "    <tr>\n",
       "      <th>angel</th>\n",
       "      <td>4400.0</td>\n",
       "      <td>0.971627</td>\n",
       "      <td>7.710871</td>\n",
       "      <td>0.0</td>\n",
       "      <td>0.15</td>\n",
       "      <td>0.41</td>\n",
       "      <td>1.00</td>\n",
       "      <td>494.51</td>\n",
       "    </tr>\n",
       "    <tr>\n",
       "      <th>private_equity</th>\n",
       "      <td>1820.0</td>\n",
       "      <td>73.938495</td>\n",
       "      <td>201.776487</td>\n",
       "      <td>0.0</td>\n",
       "      <td>5.00</td>\n",
       "      <td>20.00</td>\n",
       "      <td>75.76</td>\n",
       "      <td>4745.46</td>\n",
       "    </tr>\n",
       "    <tr>\n",
       "      <th>seed</th>\n",
       "      <td>21095.0</td>\n",
       "      <td>0.747907</td>\n",
       "      <td>2.288280</td>\n",
       "      <td>0.0</td>\n",
       "      <td>0.07</td>\n",
       "      <td>0.30</td>\n",
       "      <td>1.00</td>\n",
       "      <td>200.00</td>\n",
       "    </tr>\n",
       "    <tr>\n",
       "      <th>venture</th>\n",
       "      <td>47809.0</td>\n",
       "      <td>11.724228</td>\n",
       "      <td>88.215710</td>\n",
       "      <td>0.0</td>\n",
       "      <td>1.60</td>\n",
       "      <td>5.00</td>\n",
       "      <td>12.00</td>\n",
       "      <td>17600.00</td>\n",
       "    </tr>\n",
       "  </tbody>\n",
       "</table>\n",
       "</div>"
      ],
      "text/plain": [
       "                      count       mean         std  min   25%    50%    75%  \\\n",
       "funding_round_type                                                            \n",
       "angel                4400.0   0.971627    7.710871  0.0  0.15   0.41   1.00   \n",
       "private_equity       1820.0  73.938495  201.776487  0.0  5.00  20.00  75.76   \n",
       "seed                21095.0   0.747907    2.288280  0.0  0.07   0.30   1.00   \n",
       "venture             47809.0  11.724228   88.215710  0.0  1.60   5.00  12.00   \n",
       "\n",
       "                         max  \n",
       "funding_round_type            \n",
       "angel                 494.51  \n",
       "private_equity       4745.46  \n",
       "seed                  200.00  \n",
       "venture             17600.00  "
      ]
     },
     "execution_count": 1619,
     "metadata": {},
     "output_type": "execute_result"
    }
   ],
   "source": [
    "#Check the quantitative spread of the dataframe f0r the particular funding round type\n",
    "master_frame.groupby('funding_round_type').amount_usd_millions.describe()"
   ]
  },
  {
   "cell_type": "markdown",
   "metadata": {},
   "source": [
    "Observing above vales it is very clear that we have to chose venture funding_type <br>\n",
    "Lets illustrate the same using plots"
   ]
  },
  {
   "cell_type": "code",
   "execution_count": 1620,
   "metadata": {},
   "outputs": [
    {
     "name": "stdout",
     "output_type": "stream",
     "text": [
      "Average funding amount raised for venture: 11.72\n",
      "Average funding amount raised for angel: 0.97\n",
      "Average funding amount raised for seed 0.75\n",
      "Average funding amount raised doe private_equity: 73.94\n"
     ]
    }
   ],
   "source": [
    "# Average funding amount for venture type\n",
    "venture_mean = master_frame[master_frame['funding_round_type']=='venture'].amount_usd_millions.mean()\n",
    "print(f\"Average funding amount raised for venture: {round(venture_mean, 2)}\")\n",
    "\n",
    "# Average funding amount for angel type\n",
    "angel_mean = master_frame[master_frame['funding_round_type']=='angel'].amount_usd_millions.mean()\n",
    "print(f\"Average funding amount raised for angel: {round(angel_mean, 2)}\")\n",
    "\n",
    "# Average funding amount for seed type\n",
    "seed_mean = master_frame[master_frame['funding_round_type']=='seed'].amount_usd_millions.mean()\n",
    "print(f\"Average funding amount raised for seed {round(seed_mean, 2)}\")\n",
    "\n",
    "# Average funding amount for private equity type\n",
    "equity_mean = master_frame[master_frame['funding_round_type']=='private_equity'].amount_usd_millions.mean()\n",
    "print(f\"Average funding amount raised doe private_equity: {round(equity_mean, 2)}\")"
   ]
  },
  {
   "cell_type": "code",
   "execution_count": 1621,
   "metadata": {},
   "outputs": [
    {
     "data": {
      "image/png": "[encoded data removed]",
      "text/plain": [
       "<Figure size 1000x1000 with 2 Axes>"
      ]
     },
     "metadata": {},
     "output_type": "display_data"
    }
   ],
   "source": [
    "# Create a plot to decide on type of funding_round_type\n",
    "plt.figure(figsize=(10, 10))\n",
    "ax1 = plt.subplot(4, 4, 1)\n",
    "ax2 = plt.subplot(4, 4, 3)\n",
    "\n",
    "plt.style.use(\"default\")\n",
    "round_types = master_frame.funding_round_type.value_counts()\n",
    "\n",
    "\n",
    "\n",
    "avg_dataframe = master_frame.groupby('funding_round_type')['amount_usd_millions'].aggregate(['sum','mean']).reset_index()\n",
    "avg_dataframe['percent_investment'] = avg_dataframe['sum'].apply(lambda x : x/avg_dataframe['sum'].sum())\n",
    "#avg_dataframe = avg_dataframe.set_index('funding_round_type',inplace=True)\n",
    "sns.barplot(data=avg_dataframe,y='funding_round_type', x='mean', ax=ax1).set(xlabel='Avg of Fundings(in millions)')\n",
    "plt.pie(avg_dataframe.percent_investment,labels=avg_dataframe.funding_round_type)\n",
    "\n",
    "plt.show()"
   ]
  },
  {
   "cell_type": "code",
   "execution_count": 1622,
   "metadata": {},
   "outputs": [],
   "source": [
    "# creating a new dataframe consisting of funding_round_type venture\n",
    "inv_dataframe = master_frame[master_frame.funding_round_type=='venture']"
   ]
  },
  {
   "cell_type": "code",
   "execution_count": 1623,
   "metadata": {},
   "outputs": [
    {
     "data": {
      "text/plain": [
       "(47809, 5)"
      ]
     },
     "execution_count": 1623,
     "metadata": {},
     "output_type": "execute_result"
    }
   ],
   "source": [
    "# Find shape of seed dataframe\n",
    "inv_dataframe.shape"
   ]
  },
  {
   "cell_type": "code",
   "execution_count": 1624,
   "metadata": {},
   "outputs": [
    {
     "data": {
      "text/plain": [
       "array(['IND', 'CHN', 'CAN', 'USA', 'GBR', 'FRA', 'ROM', 'KOR', 'IRL',\n",
       "       'SWE', 'SGP', 'NLD', 'RUS', 'BEL', 'ESP', 'HUN', 'JPN', 'DEU',\n",
       "       'ITA', 'HKG', 'BRA', 'FIN', 'CHE', 'PRT', 'SVN', 'THA', 'DNK',\n",
       "       'TWN', 'ISR', 'NOR', 'LTU', 'ISL', 'MEX', 'AUS', 'NZL', 'AUT',\n",
       "       'ARG', 'PHL', 'MNE', 'MYS', 'TUR', 'POL', 'LVA', 'GGY', 'EST',\n",
       "       'LBN', 'GRC', 'IDN', 'CYP', 'SVK', 'ARE', 'EGY', 'ARM', 'ZAF',\n",
       "       'TUN', 'KEN', 'COL', 'CZE', 'CMR', 'PRI', 'CYM', 'PER', 'ECU',\n",
       "       'CHL', 'NGA', 'VNM', 'URY', 'PAK', 'HRV', 'LUX', 'UKR', 'BMU',\n",
       "       'MUS', 'BGR', 'TTO', 'PAN', 'MMR', 'JOR', 'KAZ', 'MAR', 'LIE',\n",
       "       'GTM', 'SAU', 'TAN', 'KNA', 'SEN', 'MLT', 'MCO', 'BAH', 'GHA',\n",
       "       'KWT', 'UGA', 'LAO', 'BGD', 'BWA', 'MAF', 'GIB'], dtype=object)"
      ]
     },
     "execution_count": 1624,
     "metadata": {},
     "output_type": "execute_result"
    }
   ],
   "source": [
    "#Find different country codes in the dataframe\n",
    "inv_dataframe.country_code.unique()"
   ]
  },
  {
   "cell_type": "markdown",
   "metadata": {},
   "source": [
    "Creating a list of countries where English is an official language<br>\n",
    "<b>source:</b> https://en.wikipedia.org/wiki/List_of_territorial_entities_where_English_is_an_official_language"
   ]
  },
  {
   "cell_type": "code",
   "execution_count": 1625,
   "metadata": {},
   "outputs": [],
   "source": [
    "# Creating list of English Speaking Countries\n",
    "eng_countries = ['AUS','NZL','GBR','USA','ATG','BHS','BRB','BLZ','BWA','BDI','CMR','CAN','COK','DMA','SWZ','FJI','GMB','GHA','GRD','GUY','IND','IRL','JAM','KEN','KIR','LSO','LBR','MWI','MLT','MHL','MUS',\n",
    "                'FSM','NAM','NRU','NGA','NIU','PAK','PLW','PNG','PHL','RWA','KNA','LCA','VCT','WSM','SYC','SLE','SGP','SLB','ZAF','SSD','SDN','TZA','TON','TTO','TUV','UGA','VUT','ZMB','ZWE']"
   ]
  },
  {
   "cell_type": "code",
   "execution_count": 1626,
   "metadata": {},
   "outputs": [
    {
     "data": {
      "text/html": [
       "<div>\n",
       "<style scoped>\n",
       "    .dataframe tbody tr th:only-of-type {\n",
       "        vertical-align: middle;\n",
       "    }\n",
       "\n",
       "    .dataframe tbody tr th {\n",
       "        vertical-align: top;\n",
       "    }\n",
       "\n",
       "    .dataframe thead th {\n",
       "        text-align: right;\n",
       "    }\n",
       "</style>\n",
       "<table border=\"1\" class=\"dataframe\">\n",
       "  <thead>\n",
       "    <tr style=\"text-align: right;\">\n",
       "      <th></th>\n",
       "      <th>name</th>\n",
       "      <th>category_list</th>\n",
       "      <th>country_code</th>\n",
       "      <th>amount_usd_millions</th>\n",
       "      <th>funding_round_type</th>\n",
       "    </tr>\n",
       "  </thead>\n",
       "  <tbody>\n",
       "    <tr>\n",
       "      <th>0</th>\n",
       "      <td>#fame</td>\n",
       "      <td>Media</td>\n",
       "      <td>IND</td>\n",
       "      <td>10.00</td>\n",
       "      <td>venture</td>\n",
       "    </tr>\n",
       "    <tr>\n",
       "      <th>4</th>\n",
       "      <td>0-6.com</td>\n",
       "      <td>Curated Web</td>\n",
       "      <td>CHN</td>\n",
       "      <td>2.00</td>\n",
       "      <td>venture</td>\n",
       "    </tr>\n",
       "    <tr>\n",
       "      <th>8</th>\n",
       "      <td>Ondine Biomedical Inc.</td>\n",
       "      <td>Biotechnology</td>\n",
       "      <td>CAN</td>\n",
       "      <td>0.72</td>\n",
       "      <td>venture</td>\n",
       "    </tr>\n",
       "    <tr>\n",
       "      <th>10</th>\n",
       "      <td>H2O.ai</td>\n",
       "      <td>Analytics</td>\n",
       "      <td>USA</td>\n",
       "      <td>20.00</td>\n",
       "      <td>venture</td>\n",
       "    </tr>\n",
       "    <tr>\n",
       "      <th>11</th>\n",
       "      <td>H2O.ai</td>\n",
       "      <td>Analytics</td>\n",
       "      <td>USA</td>\n",
       "      <td>1.70</td>\n",
       "      <td>venture</td>\n",
       "    </tr>\n",
       "  </tbody>\n",
       "</table>\n",
       "</div>"
      ],
      "text/plain": [
       "                      name  category_list country_code  amount_usd_millions  \\\n",
       "0                    #fame          Media          IND                10.00   \n",
       "4                  0-6.com    Curated Web          CHN                 2.00   \n",
       "8   Ondine Biomedical Inc.  Biotechnology          CAN                 0.72   \n",
       "10                  H2O.ai      Analytics          USA                20.00   \n",
       "11                  H2O.ai      Analytics          USA                 1.70   \n",
       "\n",
       "   funding_round_type  \n",
       "0             venture  \n",
       "4             venture  \n",
       "8             venture  \n",
       "10            venture  \n",
       "11            venture  "
      ]
     },
     "execution_count": 1626,
     "metadata": {},
     "output_type": "execute_result"
    }
   ],
   "source": [
    "#Display Top 5 Rows of inv_dataframe\n",
    "inv_dataframe.head()"
   ]
  },
  {
   "cell_type": "code",
   "execution_count": 1627,
   "metadata": {},
   "outputs": [
    {
     "data": {
      "text/html": [
       "<div>\n",
       "<style scoped>\n",
       "    .dataframe tbody tr th:only-of-type {\n",
       "        vertical-align: middle;\n",
       "    }\n",
       "\n",
       "    .dataframe tbody tr th {\n",
       "        vertical-align: top;\n",
       "    }\n",
       "\n",
       "    .dataframe thead th {\n",
       "        text-align: right;\n",
       "    }\n",
       "</style>\n",
       "<table border=\"1\" class=\"dataframe\">\n",
       "  <thead>\n",
       "    <tr style=\"text-align: right;\">\n",
       "      <th></th>\n",
       "      <th>index</th>\n",
       "      <th>name</th>\n",
       "      <th>category_list</th>\n",
       "      <th>country_code</th>\n",
       "      <th>amount_usd_millions</th>\n",
       "      <th>funding_round_type</th>\n",
       "    </tr>\n",
       "  </thead>\n",
       "  <tbody>\n",
       "    <tr>\n",
       "      <th>0</th>\n",
       "      <td>0</td>\n",
       "      <td>#fame</td>\n",
       "      <td>Media</td>\n",
       "      <td>IND</td>\n",
       "      <td>10.00</td>\n",
       "      <td>venture</td>\n",
       "    </tr>\n",
       "    <tr>\n",
       "      <th>1</th>\n",
       "      <td>4</td>\n",
       "      <td>0-6.com</td>\n",
       "      <td>Curated Web</td>\n",
       "      <td>CHN</td>\n",
       "      <td>2.00</td>\n",
       "      <td>venture</td>\n",
       "    </tr>\n",
       "    <tr>\n",
       "      <th>2</th>\n",
       "      <td>8</td>\n",
       "      <td>Ondine Biomedical Inc.</td>\n",
       "      <td>Biotechnology</td>\n",
       "      <td>CAN</td>\n",
       "      <td>0.72</td>\n",
       "      <td>venture</td>\n",
       "    </tr>\n",
       "    <tr>\n",
       "      <th>3</th>\n",
       "      <td>10</td>\n",
       "      <td>H2O.ai</td>\n",
       "      <td>Analytics</td>\n",
       "      <td>USA</td>\n",
       "      <td>20.00</td>\n",
       "      <td>venture</td>\n",
       "    </tr>\n",
       "    <tr>\n",
       "      <th>4</th>\n",
       "      <td>11</td>\n",
       "      <td>H2O.ai</td>\n",
       "      <td>Analytics</td>\n",
       "      <td>USA</td>\n",
       "      <td>1.70</td>\n",
       "      <td>venture</td>\n",
       "    </tr>\n",
       "  </tbody>\n",
       "</table>\n",
       "</div>"
      ],
      "text/plain": [
       "   index                    name  category_list country_code  \\\n",
       "0      0                   #fame          Media          IND   \n",
       "1      4                 0-6.com    Curated Web          CHN   \n",
       "2      8  Ondine Biomedical Inc.  Biotechnology          CAN   \n",
       "3     10                  H2O.ai      Analytics          USA   \n",
       "4     11                  H2O.ai      Analytics          USA   \n",
       "\n",
       "   amount_usd_millions funding_round_type  \n",
       "0                10.00            venture  \n",
       "1                 2.00            venture  \n",
       "2                 0.72            venture  \n",
       "3                20.00            venture  \n",
       "4                 1.70            venture  "
      ]
     },
     "execution_count": 1627,
     "metadata": {},
     "output_type": "execute_result"
    }
   ],
   "source": [
    "#Reset Index\n",
    "inv_dataframe = inv_dataframe.reset_index()\n",
    "\n",
    "#Display top 5 rows\n",
    "inv_dataframe.head()"
   ]
  },
  {
   "cell_type": "code",
   "execution_count": 1628,
   "metadata": {},
   "outputs": [
    {
     "data": {
      "text/html": [
       "<div>\n",
       "<style scoped>\n",
       "    .dataframe tbody tr th:only-of-type {\n",
       "        vertical-align: middle;\n",
       "    }\n",
       "\n",
       "    .dataframe tbody tr th {\n",
       "        vertical-align: top;\n",
       "    }\n",
       "\n",
       "    .dataframe thead th {\n",
       "        text-align: right;\n",
       "    }\n",
       "</style>\n",
       "<table border=\"1\" class=\"dataframe\">\n",
       "  <thead>\n",
       "    <tr style=\"text-align: right;\">\n",
       "      <th></th>\n",
       "      <th>name</th>\n",
       "      <th>category_list</th>\n",
       "      <th>country_code</th>\n",
       "      <th>amount_usd_millions</th>\n",
       "      <th>funding_round_type</th>\n",
       "    </tr>\n",
       "  </thead>\n",
       "  <tbody>\n",
       "    <tr>\n",
       "      <th>0</th>\n",
       "      <td>#fame</td>\n",
       "      <td>Media</td>\n",
       "      <td>IND</td>\n",
       "      <td>10.00</td>\n",
       "      <td>venture</td>\n",
       "    </tr>\n",
       "    <tr>\n",
       "      <th>1</th>\n",
       "      <td>0-6.com</td>\n",
       "      <td>Curated Web</td>\n",
       "      <td>CHN</td>\n",
       "      <td>2.00</td>\n",
       "      <td>venture</td>\n",
       "    </tr>\n",
       "    <tr>\n",
       "      <th>2</th>\n",
       "      <td>Ondine Biomedical Inc.</td>\n",
       "      <td>Biotechnology</td>\n",
       "      <td>CAN</td>\n",
       "      <td>0.72</td>\n",
       "      <td>venture</td>\n",
       "    </tr>\n",
       "    <tr>\n",
       "      <th>3</th>\n",
       "      <td>H2O.ai</td>\n",
       "      <td>Analytics</td>\n",
       "      <td>USA</td>\n",
       "      <td>20.00</td>\n",
       "      <td>venture</td>\n",
       "    </tr>\n",
       "    <tr>\n",
       "      <th>4</th>\n",
       "      <td>H2O.ai</td>\n",
       "      <td>Analytics</td>\n",
       "      <td>USA</td>\n",
       "      <td>1.70</td>\n",
       "      <td>venture</td>\n",
       "    </tr>\n",
       "  </tbody>\n",
       "</table>\n",
       "</div>"
      ],
      "text/plain": [
       "                     name  category_list country_code  amount_usd_millions  \\\n",
       "0                   #fame          Media          IND                10.00   \n",
       "1                 0-6.com    Curated Web          CHN                 2.00   \n",
       "2  Ondine Biomedical Inc.  Biotechnology          CAN                 0.72   \n",
       "3                  H2O.ai      Analytics          USA                20.00   \n",
       "4                  H2O.ai      Analytics          USA                 1.70   \n",
       "\n",
       "  funding_round_type  \n",
       "0            venture  \n",
       "1            venture  \n",
       "2            venture  \n",
       "3            venture  \n",
       "4            venture  "
      ]
     },
     "execution_count": 1628,
     "metadata": {},
     "output_type": "execute_result"
    }
   ],
   "source": [
    "#Drop index column \n",
    "inv_dataframe = inv_dataframe.drop('index',axis=1)\n",
    "\n",
    "# Display Top 5 rows of seed_dataframe\n",
    "inv_dataframe.head()"
   ]
  },
  {
   "cell_type": "code",
   "execution_count": 1629,
   "metadata": {},
   "outputs": [
    {
     "data": {
      "text/html": [
       "<div>\n",
       "<style scoped>\n",
       "    .dataframe tbody tr th:only-of-type {\n",
       "        vertical-align: middle;\n",
       "    }\n",
       "\n",
       "    .dataframe tbody tr th {\n",
       "        vertical-align: top;\n",
       "    }\n",
       "\n",
       "    .dataframe thead th {\n",
       "        text-align: right;\n",
       "    }\n",
       "</style>\n",
       "<table border=\"1\" class=\"dataframe\">\n",
       "  <thead>\n",
       "    <tr style=\"text-align: right;\">\n",
       "      <th></th>\n",
       "      <th>country_code</th>\n",
       "      <th>total_funding</th>\n",
       "    </tr>\n",
       "  </thead>\n",
       "  <tbody>\n",
       "    <tr>\n",
       "      <th>0</th>\n",
       "      <td>USA</td>\n",
       "      <td>420068.26</td>\n",
       "    </tr>\n",
       "    <tr>\n",
       "      <th>1</th>\n",
       "      <td>CHN</td>\n",
       "      <td>39338.82</td>\n",
       "    </tr>\n",
       "    <tr>\n",
       "      <th>2</th>\n",
       "      <td>GBR</td>\n",
       "      <td>20072.77</td>\n",
       "    </tr>\n",
       "    <tr>\n",
       "      <th>3</th>\n",
       "      <td>IND</td>\n",
       "      <td>14261.52</td>\n",
       "    </tr>\n",
       "    <tr>\n",
       "      <th>4</th>\n",
       "      <td>CAN</td>\n",
       "      <td>9482.26</td>\n",
       "    </tr>\n",
       "    <tr>\n",
       "      <th>5</th>\n",
       "      <td>FRA</td>\n",
       "      <td>7226.82</td>\n",
       "    </tr>\n",
       "    <tr>\n",
       "      <th>6</th>\n",
       "      <td>ISR</td>\n",
       "      <td>6854.34</td>\n",
       "    </tr>\n",
       "    <tr>\n",
       "      <th>7</th>\n",
       "      <td>DEU</td>\n",
       "      <td>6307.00</td>\n",
       "    </tr>\n",
       "    <tr>\n",
       "      <th>8</th>\n",
       "      <td>JPN</td>\n",
       "      <td>3167.68</td>\n",
       "    </tr>\n",
       "  </tbody>\n",
       "</table>\n",
       "</div>"
      ],
      "text/plain": [
       "  country_code  total_funding\n",
       "0          USA      420068.26\n",
       "1          CHN       39338.82\n",
       "2          GBR       20072.77\n",
       "3          IND       14261.52\n",
       "4          CAN        9482.26\n",
       "5          FRA        7226.82\n",
       "6          ISR        6854.34\n",
       "7          DEU        6307.00\n",
       "8          JPN        3167.68"
      ]
     },
     "execution_count": 1629,
     "metadata": {},
     "output_type": "execute_result"
    }
   ],
   "source": [
    "# Create a dataframe top9 where investments are high\n",
    "top9 = inv_dataframe.groupby('country_code')['amount_usd_millions'].sum().sort_values(ascending=False).reset_index().head(9)\n",
    "\n",
    "# Rename the column name to total_funding\n",
    "top9 = top9.rename(columns={'amount_usd_millions':'total_funding'})\n",
    "\n",
    "#Display top9\n",
    "top9"
   ]
  },
  {
   "cell_type": "code",
   "execution_count": 1630,
   "metadata": {},
   "outputs": [
    {
     "data": {
      "text/html": [
       "<div>\n",
       "<style scoped>\n",
       "    .dataframe tbody tr th:only-of-type {\n",
       "        vertical-align: middle;\n",
       "    }\n",
       "\n",
       "    .dataframe tbody tr th {\n",
       "        vertical-align: top;\n",
       "    }\n",
       "\n",
       "    .dataframe thead th {\n",
       "        text-align: right;\n",
       "    }\n",
       "</style>\n",
       "<table border=\"1\" class=\"dataframe\">\n",
       "  <thead>\n",
       "    <tr style=\"text-align: right;\">\n",
       "      <th></th>\n",
       "      <th>country_code</th>\n",
       "      <th>total_funding</th>\n",
       "      <th>English_Speaking</th>\n",
       "    </tr>\n",
       "  </thead>\n",
       "  <tbody>\n",
       "    <tr>\n",
       "      <th>0</th>\n",
       "      <td>USA</td>\n",
       "      <td>420068.26</td>\n",
       "      <td>True</td>\n",
       "    </tr>\n",
       "    <tr>\n",
       "      <th>1</th>\n",
       "      <td>CHN</td>\n",
       "      <td>39338.82</td>\n",
       "      <td>False</td>\n",
       "    </tr>\n",
       "    <tr>\n",
       "      <th>2</th>\n",
       "      <td>GBR</td>\n",
       "      <td>20072.77</td>\n",
       "      <td>True</td>\n",
       "    </tr>\n",
       "    <tr>\n",
       "      <th>3</th>\n",
       "      <td>IND</td>\n",
       "      <td>14261.52</td>\n",
       "      <td>True</td>\n",
       "    </tr>\n",
       "    <tr>\n",
       "      <th>4</th>\n",
       "      <td>CAN</td>\n",
       "      <td>9482.26</td>\n",
       "      <td>True</td>\n",
       "    </tr>\n",
       "    <tr>\n",
       "      <th>5</th>\n",
       "      <td>FRA</td>\n",
       "      <td>7226.82</td>\n",
       "      <td>False</td>\n",
       "    </tr>\n",
       "    <tr>\n",
       "      <th>6</th>\n",
       "      <td>ISR</td>\n",
       "      <td>6854.34</td>\n",
       "      <td>False</td>\n",
       "    </tr>\n",
       "    <tr>\n",
       "      <th>7</th>\n",
       "      <td>DEU</td>\n",
       "      <td>6307.00</td>\n",
       "      <td>False</td>\n",
       "    </tr>\n",
       "    <tr>\n",
       "      <th>8</th>\n",
       "      <td>JPN</td>\n",
       "      <td>3167.68</td>\n",
       "      <td>False</td>\n",
       "    </tr>\n",
       "  </tbody>\n",
       "</table>\n",
       "</div>"
      ],
      "text/plain": [
       "  country_code  total_funding  English_Speaking\n",
       "0          USA      420068.26              True\n",
       "1          CHN       39338.82             False\n",
       "2          GBR       20072.77              True\n",
       "3          IND       14261.52              True\n",
       "4          CAN        9482.26              True\n",
       "5          FRA        7226.82             False\n",
       "6          ISR        6854.34             False\n",
       "7          DEU        6307.00             False\n",
       "8          JPN        3167.68             False"
      ]
     },
     "execution_count": 1630,
     "metadata": {},
     "output_type": "execute_result"
    }
   ],
   "source": [
    "# Insert a column English_Speaking\n",
    "top9['English_Speaking'] = top9.country_code.apply(lambda con : True if con in eng_countries else False)\n",
    "\n",
    "# Display top9\n",
    "top9"
   ]
  },
  {
   "cell_type": "code",
   "execution_count": 1631,
   "metadata": {},
   "outputs": [
    {
     "data": {
      "text/html": [
       "<div>\n",
       "<style scoped>\n",
       "    .dataframe tbody tr th:only-of-type {\n",
       "        vertical-align: middle;\n",
       "    }\n",
       "\n",
       "    .dataframe tbody tr th {\n",
       "        vertical-align: top;\n",
       "    }\n",
       "\n",
       "    .dataframe thead th {\n",
       "        text-align: right;\n",
       "    }\n",
       "</style>\n",
       "<table border=\"1\" class=\"dataframe\">\n",
       "  <thead>\n",
       "    <tr style=\"text-align: right;\">\n",
       "      <th></th>\n",
       "      <th>country_code</th>\n",
       "      <th>total_funding</th>\n",
       "      <th>English_Speaking</th>\n",
       "    </tr>\n",
       "  </thead>\n",
       "  <tbody>\n",
       "    <tr>\n",
       "      <th>0</th>\n",
       "      <td>USA</td>\n",
       "      <td>420068.26</td>\n",
       "      <td>True</td>\n",
       "    </tr>\n",
       "    <tr>\n",
       "      <th>2</th>\n",
       "      <td>GBR</td>\n",
       "      <td>20072.77</td>\n",
       "      <td>True</td>\n",
       "    </tr>\n",
       "    <tr>\n",
       "      <th>3</th>\n",
       "      <td>IND</td>\n",
       "      <td>14261.52</td>\n",
       "      <td>True</td>\n",
       "    </tr>\n",
       "  </tbody>\n",
       "</table>\n",
       "</div>"
      ],
      "text/plain": [
       "  country_code  total_funding  English_Speaking\n",
       "0          USA      420068.26              True\n",
       "2          GBR       20072.77              True\n",
       "3          IND       14261.52              True"
      ]
     },
     "execution_count": 1631,
     "metadata": {},
     "output_type": "execute_result"
    }
   ],
   "source": [
    "# Display top3 English speaking countries\n",
    "top3_english = top9[top9['English_Speaking']].head(3)\n",
    "\n",
    "#Display top3_english\n",
    "top3_english"
   ]
  },
  {
   "cell_type": "code",
   "execution_count": 1632,
   "metadata": {},
   "outputs": [
    {
     "data": {
      "image/png": "[encoded data removed]",
      "text/plain": [
       "<Figure size 900x700 with 1 Axes>"
      ]
     },
     "metadata": {},
     "output_type": "display_data"
    }
   ],
   "source": [
    "# Plot a graph to understand distributions\n",
    "plt.figure(figsize=(9,7))\n",
    "plt.style.use(\"default\")\n",
    "sns.barplot(x=top9.country_code, y=top9.total_funding.ravel()).set(ylabel='total_investment(inMillions)')\n",
    "plt.show()\n"
   ]
  },
  {
   "cell_type": "code",
   "execution_count": 1633,
   "metadata": {},
   "outputs": [],
   "source": [
    "# Create a final datframe with venture funding type and top3 english speaking countries\n",
    "final_frame = inv_dataframe[inv_dataframe.country_code.isin(top3_english.country_code)]\n",
    "\n",
    "#Reset the Index of dataframe\n",
    "final_frame = final_frame.reset_index()\n",
    "\n",
    "# Drop previous index column\n",
    "final_frame =  final_frame.drop(['index'],axis=1)"
   ]
  },
  {
   "cell_type": "code",
   "execution_count": 1634,
   "metadata": {},
   "outputs": [
    {
     "data": {
      "text/html": [
       "<div>\n",
       "<style scoped>\n",
       "    .dataframe tbody tr th:only-of-type {\n",
       "        vertical-align: middle;\n",
       "    }\n",
       "\n",
       "    .dataframe tbody tr th {\n",
       "        vertical-align: top;\n",
       "    }\n",
       "\n",
       "    .dataframe thead th {\n",
       "        text-align: right;\n",
       "    }\n",
       "</style>\n",
       "<table border=\"1\" class=\"dataframe\">\n",
       "  <thead>\n",
       "    <tr style=\"text-align: right;\">\n",
       "      <th></th>\n",
       "      <th>name</th>\n",
       "      <th>category_list</th>\n",
       "      <th>country_code</th>\n",
       "      <th>amount_usd_millions</th>\n",
       "      <th>funding_round_type</th>\n",
       "    </tr>\n",
       "  </thead>\n",
       "  <tbody>\n",
       "    <tr>\n",
       "      <th>0</th>\n",
       "      <td>#fame</td>\n",
       "      <td>Media</td>\n",
       "      <td>IND</td>\n",
       "      <td>10.0</td>\n",
       "      <td>venture</td>\n",
       "    </tr>\n",
       "    <tr>\n",
       "      <th>1</th>\n",
       "      <td>H2O.ai</td>\n",
       "      <td>Analytics</td>\n",
       "      <td>USA</td>\n",
       "      <td>20.0</td>\n",
       "      <td>venture</td>\n",
       "    </tr>\n",
       "    <tr>\n",
       "      <th>2</th>\n",
       "      <td>H2O.ai</td>\n",
       "      <td>Analytics</td>\n",
       "      <td>USA</td>\n",
       "      <td>1.7</td>\n",
       "      <td>venture</td>\n",
       "    </tr>\n",
       "    <tr>\n",
       "      <th>3</th>\n",
       "      <td>H2O.ai</td>\n",
       "      <td>Analytics</td>\n",
       "      <td>USA</td>\n",
       "      <td>8.9</td>\n",
       "      <td>venture</td>\n",
       "    </tr>\n",
       "    <tr>\n",
       "      <th>4</th>\n",
       "      <td>1 Mainstream</td>\n",
       "      <td>Apps|Cable|Distribution|Software</td>\n",
       "      <td>USA</td>\n",
       "      <td>5.0</td>\n",
       "      <td>venture</td>\n",
       "    </tr>\n",
       "  </tbody>\n",
       "</table>\n",
       "</div>"
      ],
      "text/plain": [
       "           name                     category_list country_code  \\\n",
       "0         #fame                             Media          IND   \n",
       "1        H2O.ai                         Analytics          USA   \n",
       "2        H2O.ai                         Analytics          USA   \n",
       "3        H2O.ai                         Analytics          USA   \n",
       "4  1 Mainstream  Apps|Cable|Distribution|Software          USA   \n",
       "\n",
       "   amount_usd_millions funding_round_type  \n",
       "0                 10.0            venture  \n",
       "1                 20.0            venture  \n",
       "2                  1.7            venture  \n",
       "3                  8.9            venture  \n",
       "4                  5.0            venture  "
      ]
     },
     "execution_count": 1634,
     "metadata": {},
     "output_type": "execute_result"
    }
   ],
   "source": [
    "#Dispaly top 5 rows\n",
    "final_frame.head()"
   ]
  },
  {
   "cell_type": "code",
   "execution_count": 1635,
   "metadata": {},
   "outputs": [
    {
     "data": {
      "text/plain": [
       "(38803, 5)"
      ]
     },
     "execution_count": 1635,
     "metadata": {},
     "output_type": "execute_result"
    }
   ],
   "source": [
    "# Display shape of final_frame\n",
    "final_frame.shape"
   ]
  },
  {
   "cell_type": "markdown",
   "metadata": {},
   "source": [
    "<b>Business Rule:</b>  The first string before the vertical bar will be considered the primary sector in catrgory_list"
   ]
  },
  {
   "cell_type": "code",
   "execution_count": 1636,
   "metadata": {},
   "outputs": [
    {
     "data": {
      "text/html": [
       "<div>\n",
       "<style scoped>\n",
       "    .dataframe tbody tr th:only-of-type {\n",
       "        vertical-align: middle;\n",
       "    }\n",
       "\n",
       "    .dataframe tbody tr th {\n",
       "        vertical-align: top;\n",
       "    }\n",
       "\n",
       "    .dataframe thead th {\n",
       "        text-align: right;\n",
       "    }\n",
       "</style>\n",
       "<table border=\"1\" class=\"dataframe\">\n",
       "  <thead>\n",
       "    <tr style=\"text-align: right;\">\n",
       "      <th></th>\n",
       "      <th>name</th>\n",
       "      <th>category_list</th>\n",
       "      <th>country_code</th>\n",
       "      <th>amount_usd_millions</th>\n",
       "      <th>funding_round_type</th>\n",
       "      <th>primary_sector</th>\n",
       "    </tr>\n",
       "  </thead>\n",
       "  <tbody>\n",
       "    <tr>\n",
       "      <th>0</th>\n",
       "      <td>#fame</td>\n",
       "      <td>Media</td>\n",
       "      <td>IND</td>\n",
       "      <td>10.0</td>\n",
       "      <td>venture</td>\n",
       "      <td>Media</td>\n",
       "    </tr>\n",
       "    <tr>\n",
       "      <th>1</th>\n",
       "      <td>H2O.ai</td>\n",
       "      <td>Analytics</td>\n",
       "      <td>USA</td>\n",
       "      <td>20.0</td>\n",
       "      <td>venture</td>\n",
       "      <td>Analytics</td>\n",
       "    </tr>\n",
       "    <tr>\n",
       "      <th>2</th>\n",
       "      <td>H2O.ai</td>\n",
       "      <td>Analytics</td>\n",
       "      <td>USA</td>\n",
       "      <td>1.7</td>\n",
       "      <td>venture</td>\n",
       "      <td>Analytics</td>\n",
       "    </tr>\n",
       "    <tr>\n",
       "      <th>3</th>\n",
       "      <td>H2O.ai</td>\n",
       "      <td>Analytics</td>\n",
       "      <td>USA</td>\n",
       "      <td>8.9</td>\n",
       "      <td>venture</td>\n",
       "      <td>Analytics</td>\n",
       "    </tr>\n",
       "    <tr>\n",
       "      <th>4</th>\n",
       "      <td>1 Mainstream</td>\n",
       "      <td>Apps|Cable|Distribution|Software</td>\n",
       "      <td>USA</td>\n",
       "      <td>5.0</td>\n",
       "      <td>venture</td>\n",
       "      <td>Apps</td>\n",
       "    </tr>\n",
       "  </tbody>\n",
       "</table>\n",
       "</div>"
      ],
      "text/plain": [
       "           name                     category_list country_code  \\\n",
       "0         #fame                             Media          IND   \n",
       "1        H2O.ai                         Analytics          USA   \n",
       "2        H2O.ai                         Analytics          USA   \n",
       "3        H2O.ai                         Analytics          USA   \n",
       "4  1 Mainstream  Apps|Cable|Distribution|Software          USA   \n",
       "\n",
       "   amount_usd_millions funding_round_type primary_sector  \n",
       "0                 10.0            venture          Media  \n",
       "1                 20.0            venture      Analytics  \n",
       "2                  1.7            venture      Analytics  \n",
       "3                  8.9            venture      Analytics  \n",
       "4                  5.0            venture           Apps  "
      ]
     },
     "execution_count": 1636,
     "metadata": {},
     "output_type": "execute_result"
    }
   ],
   "source": [
    "# Create a column Category using category_list\n",
    "final_frame['primary_sector'] = final_frame['category_list'].apply(lambda x: str(str(x).split(\"|\")[0]))\n",
    "\n",
    "# Display top5 rows\n",
    "final_frame.head()"
   ]
  },
  {
   "cell_type": "markdown",
   "metadata": {},
   "source": [
    "We refer to one of the eight main sectors (named main_sector) listed in the mapping file (note that ‘Other’ is one of the eight main sectors). This is to simplify the analysis by grouping the numerous category lists in the mapping file."
   ]
  },
  {
   "cell_type": "code",
   "execution_count": 1637,
   "metadata": {},
   "outputs": [
    {
     "data": {
      "text/html": [
       "<div>\n",
       "<style scoped>\n",
       "    .dataframe tbody tr th:only-of-type {\n",
       "        vertical-align: middle;\n",
       "    }\n",
       "\n",
       "    .dataframe tbody tr th {\n",
       "        vertical-align: top;\n",
       "    }\n",
       "\n",
       "    .dataframe thead th {\n",
       "        text-align: right;\n",
       "    }\n",
       "</style>\n",
       "<table border=\"1\" class=\"dataframe\">\n",
       "  <thead>\n",
       "    <tr style=\"text-align: right;\">\n",
       "      <th></th>\n",
       "      <th>category_list</th>\n",
       "      <th>Automotive &amp; Sports</th>\n",
       "      <th>Blanks</th>\n",
       "      <th>Cleantech / Semiconductors</th>\n",
       "      <th>Entertainment</th>\n",
       "      <th>Health</th>\n",
       "      <th>Manufacturing</th>\n",
       "      <th>News, Search and Messaging</th>\n",
       "      <th>Others</th>\n",
       "      <th>Social, Finance, Analytics, Advertising</th>\n",
       "    </tr>\n",
       "  </thead>\n",
       "  <tbody>\n",
       "    <tr>\n",
       "      <th>0</th>\n",
       "      <td>NaN</td>\n",
       "      <td>0</td>\n",
       "      <td>1</td>\n",
       "      <td>0</td>\n",
       "      <td>0</td>\n",
       "      <td>0</td>\n",
       "      <td>0</td>\n",
       "      <td>0</td>\n",
       "      <td>0</td>\n",
       "      <td>0</td>\n",
       "    </tr>\n",
       "    <tr>\n",
       "      <th>1</th>\n",
       "      <td>3D</td>\n",
       "      <td>0</td>\n",
       "      <td>0</td>\n",
       "      <td>0</td>\n",
       "      <td>0</td>\n",
       "      <td>0</td>\n",
       "      <td>1</td>\n",
       "      <td>0</td>\n",
       "      <td>0</td>\n",
       "      <td>0</td>\n",
       "    </tr>\n",
       "    <tr>\n",
       "      <th>2</th>\n",
       "      <td>3D Printing</td>\n",
       "      <td>0</td>\n",
       "      <td>0</td>\n",
       "      <td>0</td>\n",
       "      <td>0</td>\n",
       "      <td>0</td>\n",
       "      <td>1</td>\n",
       "      <td>0</td>\n",
       "      <td>0</td>\n",
       "      <td>0</td>\n",
       "    </tr>\n",
       "    <tr>\n",
       "      <th>3</th>\n",
       "      <td>3D Technology</td>\n",
       "      <td>0</td>\n",
       "      <td>0</td>\n",
       "      <td>0</td>\n",
       "      <td>0</td>\n",
       "      <td>0</td>\n",
       "      <td>1</td>\n",
       "      <td>0</td>\n",
       "      <td>0</td>\n",
       "      <td>0</td>\n",
       "    </tr>\n",
       "    <tr>\n",
       "      <th>4</th>\n",
       "      <td>Accounting</td>\n",
       "      <td>0</td>\n",
       "      <td>0</td>\n",
       "      <td>0</td>\n",
       "      <td>0</td>\n",
       "      <td>0</td>\n",
       "      <td>0</td>\n",
       "      <td>0</td>\n",
       "      <td>0</td>\n",
       "      <td>1</td>\n",
       "    </tr>\n",
       "  </tbody>\n",
       "</table>\n",
       "</div>"
      ],
      "text/plain": [
       "   category_list  Automotive & Sports  Blanks  Cleantech / Semiconductors  \\\n",
       "0            NaN                    0       1                           0   \n",
       "1             3D                    0       0                           0   \n",
       "2    3D Printing                    0       0                           0   \n",
       "3  3D Technology                    0       0                           0   \n",
       "4     Accounting                    0       0                           0   \n",
       "\n",
       "   Entertainment  Health  Manufacturing  News, Search and Messaging  Others  \\\n",
       "0              0       0              0                           0       0   \n",
       "1              0       0              1                           0       0   \n",
       "2              0       0              1                           0       0   \n",
       "3              0       0              1                           0       0   \n",
       "4              0       0              0                           0       0   \n",
       "\n",
       "   Social, Finance, Analytics, Advertising  \n",
       "0                                        0  \n",
       "1                                        0  \n",
       "2                                        0  \n",
       "3                                        0  \n",
       "4                                        1  "
      ]
     },
     "execution_count": 1637,
     "metadata": {},
     "output_type": "execute_result"
    }
   ],
   "source": [
    "# Import Mapping file\n",
    "mapping = pd.read_csv(\"D:\\AIML Pythn Notebooks\\Statistics Analysis\\Assignments\\Assignment-1\\\\mapping.csv\",encoding= 'palmos')\n",
    "\n",
    "# Display Top 5 Rows\n",
    "mapping.head()"
   ]
  },
  {
   "cell_type": "code",
   "execution_count": 1638,
   "metadata": {},
   "outputs": [
    {
     "data": {
      "text/html": [
       "<div>\n",
       "<style scoped>\n",
       "    .dataframe tbody tr th:only-of-type {\n",
       "        vertical-align: middle;\n",
       "    }\n",
       "\n",
       "    .dataframe tbody tr th {\n",
       "        vertical-align: top;\n",
       "    }\n",
       "\n",
       "    .dataframe thead th {\n",
       "        text-align: right;\n",
       "    }\n",
       "</style>\n",
       "<table border=\"1\" class=\"dataframe\">\n",
       "  <thead>\n",
       "    <tr style=\"text-align: right;\">\n",
       "      <th></th>\n",
       "      <th>category_list</th>\n",
       "      <th>Automotive &amp; Sports</th>\n",
       "      <th>Blanks</th>\n",
       "      <th>Cleantech / Semiconductors</th>\n",
       "      <th>Entertainment</th>\n",
       "      <th>Health</th>\n",
       "      <th>Manufacturing</th>\n",
       "      <th>News, Search and Messaging</th>\n",
       "      <th>Others</th>\n",
       "      <th>Social, Finance, Analytics, Advertising</th>\n",
       "    </tr>\n",
       "  </thead>\n",
       "  <tbody>\n",
       "    <tr>\n",
       "      <th>0</th>\n",
       "      <td>NaN</td>\n",
       "      <td>0</td>\n",
       "      <td>1</td>\n",
       "      <td>0</td>\n",
       "      <td>0</td>\n",
       "      <td>0</td>\n",
       "      <td>0</td>\n",
       "      <td>0</td>\n",
       "      <td>0</td>\n",
       "      <td>0</td>\n",
       "    </tr>\n",
       "    <tr>\n",
       "      <th>1</th>\n",
       "      <td>3D</td>\n",
       "      <td>0</td>\n",
       "      <td>0</td>\n",
       "      <td>0</td>\n",
       "      <td>0</td>\n",
       "      <td>0</td>\n",
       "      <td>1</td>\n",
       "      <td>0</td>\n",
       "      <td>0</td>\n",
       "      <td>0</td>\n",
       "    </tr>\n",
       "    <tr>\n",
       "      <th>2</th>\n",
       "      <td>3D Printing</td>\n",
       "      <td>0</td>\n",
       "      <td>0</td>\n",
       "      <td>0</td>\n",
       "      <td>0</td>\n",
       "      <td>0</td>\n",
       "      <td>1</td>\n",
       "      <td>0</td>\n",
       "      <td>0</td>\n",
       "      <td>0</td>\n",
       "    </tr>\n",
       "    <tr>\n",
       "      <th>3</th>\n",
       "      <td>3D Technology</td>\n",
       "      <td>0</td>\n",
       "      <td>0</td>\n",
       "      <td>0</td>\n",
       "      <td>0</td>\n",
       "      <td>0</td>\n",
       "      <td>1</td>\n",
       "      <td>0</td>\n",
       "      <td>0</td>\n",
       "      <td>0</td>\n",
       "    </tr>\n",
       "    <tr>\n",
       "      <th>4</th>\n",
       "      <td>Accounting</td>\n",
       "      <td>0</td>\n",
       "      <td>0</td>\n",
       "      <td>0</td>\n",
       "      <td>0</td>\n",
       "      <td>0</td>\n",
       "      <td>0</td>\n",
       "      <td>0</td>\n",
       "      <td>0</td>\n",
       "      <td>1</td>\n",
       "    </tr>\n",
       "  </tbody>\n",
       "</table>\n",
       "</div>"
      ],
      "text/plain": [
       "   category_list  Automotive & Sports  Blanks  Cleantech / Semiconductors  \\\n",
       "0            NaN                    0       1                           0   \n",
       "1             3D                    0       0                           0   \n",
       "2    3D Printing                    0       0                           0   \n",
       "3  3D Technology                    0       0                           0   \n",
       "4     Accounting                    0       0                           0   \n",
       "\n",
       "   Entertainment  Health  Manufacturing  News, Search and Messaging  Others  \\\n",
       "0              0       0              0                           0       0   \n",
       "1              0       0              1                           0       0   \n",
       "2              0       0              1                           0       0   \n",
       "3              0       0              1                           0       0   \n",
       "4              0       0              0                           0       0   \n",
       "\n",
       "   Social, Finance, Analytics, Advertising  \n",
       "0                                        0  \n",
       "1                                        0  \n",
       "2                                        0  \n",
       "3                                        0  \n",
       "4                                        1  "
      ]
     },
     "execution_count": 1638,
     "metadata": {},
     "output_type": "execute_result"
    }
   ],
   "source": [
    "# Print first 5 rows of dataframe\n",
    "mapping.head()"
   ]
  },
  {
   "cell_type": "code",
   "execution_count": 1639,
   "metadata": {},
   "outputs": [
    {
     "data": {
      "text/plain": [
       "category_list                              1\n",
       "Automotive & Sports                        0\n",
       "Blanks                                     0\n",
       "Cleantech / Semiconductors                 0\n",
       "Entertainment                              0\n",
       "Health                                     0\n",
       "Manufacturing                              0\n",
       "News, Search and Messaging                 0\n",
       "Others                                     0\n",
       "Social, Finance, Analytics, Advertising    0\n",
       "dtype: int64"
      ]
     },
     "execution_count": 1639,
     "metadata": {},
     "output_type": "execute_result"
    }
   ],
   "source": [
    "#Check whether there are any null values in mapping dataframe\n",
    "mapping.isnull().sum()"
   ]
  },
  {
   "cell_type": "code",
   "execution_count": 1640,
   "metadata": {},
   "outputs": [
    {
     "data": {
      "text/html": [
       "<div>\n",
       "<style scoped>\n",
       "    .dataframe tbody tr th:only-of-type {\n",
       "        vertical-align: middle;\n",
       "    }\n",
       "\n",
       "    .dataframe tbody tr th {\n",
       "        vertical-align: top;\n",
       "    }\n",
       "\n",
       "    .dataframe thead th {\n",
       "        text-align: right;\n",
       "    }\n",
       "</style>\n",
       "<table border=\"1\" class=\"dataframe\">\n",
       "  <thead>\n",
       "    <tr style=\"text-align: right;\">\n",
       "      <th></th>\n",
       "      <th>category_list</th>\n",
       "      <th>Automotive &amp; Sports</th>\n",
       "      <th>Blanks</th>\n",
       "      <th>Cleantech / Semiconductors</th>\n",
       "      <th>Entertainment</th>\n",
       "      <th>Health</th>\n",
       "      <th>Manufacturing</th>\n",
       "      <th>News, Search and Messaging</th>\n",
       "      <th>Others</th>\n",
       "      <th>Social, Finance, Analytics, Advertising</th>\n",
       "    </tr>\n",
       "  </thead>\n",
       "  <tbody>\n",
       "    <tr>\n",
       "      <th>0</th>\n",
       "      <td>NaN</td>\n",
       "      <td>0</td>\n",
       "      <td>1</td>\n",
       "      <td>0</td>\n",
       "      <td>0</td>\n",
       "      <td>0</td>\n",
       "      <td>0</td>\n",
       "      <td>0</td>\n",
       "      <td>0</td>\n",
       "      <td>0</td>\n",
       "    </tr>\n",
       "  </tbody>\n",
       "</table>\n",
       "</div>"
      ],
      "text/plain": [
       "  category_list  Automotive & Sports  Blanks  Cleantech / Semiconductors  \\\n",
       "0           NaN                    0       1                           0   \n",
       "\n",
       "   Entertainment  Health  Manufacturing  News, Search and Messaging  Others  \\\n",
       "0              0       0              0                           0       0   \n",
       "\n",
       "   Social, Finance, Analytics, Advertising  \n",
       "0                                        0  "
      ]
     },
     "execution_count": 1640,
     "metadata": {},
     "output_type": "execute_result"
    }
   ],
   "source": [
    "#Display the eow that has null values in category_list\n",
    "mapping[mapping.category_list.isnull()]"
   ]
  },
  {
   "cell_type": "markdown",
   "metadata": {},
   "source": [
    "The category_list NaN is for specifying that there is no such category. so it need not be considered as a missing value"
   ]
  },
  {
   "cell_type": "markdown",
   "metadata": {},
   "source": [
    "Most of the values in category_list should contain only charecters. Lets verify before proceeding"
   ]
  },
  {
   "cell_type": "code",
   "execution_count": 1641,
   "metadata": {},
   "outputs": [
    {
     "data": {
      "text/html": [
       "<div>\n",
       "<style scoped>\n",
       "    .dataframe tbody tr th:only-of-type {\n",
       "        vertical-align: middle;\n",
       "    }\n",
       "\n",
       "    .dataframe tbody tr th {\n",
       "        vertical-align: top;\n",
       "    }\n",
       "\n",
       "    .dataframe thead th {\n",
       "        text-align: right;\n",
       "    }\n",
       "</style>\n",
       "<table border=\"1\" class=\"dataframe\">\n",
       "  <thead>\n",
       "    <tr style=\"text-align: right;\">\n",
       "      <th></th>\n",
       "      <th>category_list</th>\n",
       "      <th>Automotive &amp; Sports</th>\n",
       "      <th>Blanks</th>\n",
       "      <th>Cleantech / Semiconductors</th>\n",
       "      <th>Entertainment</th>\n",
       "      <th>Health</th>\n",
       "      <th>Manufacturing</th>\n",
       "      <th>News, Search and Messaging</th>\n",
       "      <th>Others</th>\n",
       "      <th>Social, Finance, Analytics, Advertising</th>\n",
       "    </tr>\n",
       "  </thead>\n",
       "  <tbody>\n",
       "    <tr>\n",
       "      <th>1</th>\n",
       "      <td>3D</td>\n",
       "      <td>0</td>\n",
       "      <td>0</td>\n",
       "      <td>0</td>\n",
       "      <td>0</td>\n",
       "      <td>0</td>\n",
       "      <td>1</td>\n",
       "      <td>0</td>\n",
       "      <td>0</td>\n",
       "      <td>0</td>\n",
       "    </tr>\n",
       "    <tr>\n",
       "      <th>2</th>\n",
       "      <td>3D Printing</td>\n",
       "      <td>0</td>\n",
       "      <td>0</td>\n",
       "      <td>0</td>\n",
       "      <td>0</td>\n",
       "      <td>0</td>\n",
       "      <td>1</td>\n",
       "      <td>0</td>\n",
       "      <td>0</td>\n",
       "      <td>0</td>\n",
       "    </tr>\n",
       "    <tr>\n",
       "      <th>3</th>\n",
       "      <td>3D Technology</td>\n",
       "      <td>0</td>\n",
       "      <td>0</td>\n",
       "      <td>0</td>\n",
       "      <td>0</td>\n",
       "      <td>0</td>\n",
       "      <td>1</td>\n",
       "      <td>0</td>\n",
       "      <td>0</td>\n",
       "      <td>0</td>\n",
       "    </tr>\n",
       "    <tr>\n",
       "      <th>20</th>\n",
       "      <td>Alter0tive Medicine</td>\n",
       "      <td>0</td>\n",
       "      <td>0</td>\n",
       "      <td>0</td>\n",
       "      <td>0</td>\n",
       "      <td>1</td>\n",
       "      <td>0</td>\n",
       "      <td>0</td>\n",
       "      <td>0</td>\n",
       "      <td>0</td>\n",
       "    </tr>\n",
       "    <tr>\n",
       "      <th>22</th>\n",
       "      <td>A0lytics</td>\n",
       "      <td>0</td>\n",
       "      <td>0</td>\n",
       "      <td>0</td>\n",
       "      <td>0</td>\n",
       "      <td>0</td>\n",
       "      <td>0</td>\n",
       "      <td>0</td>\n",
       "      <td>0</td>\n",
       "      <td>1</td>\n",
       "    </tr>\n",
       "    <tr>\n",
       "      <th>...</th>\n",
       "      <td>...</td>\n",
       "      <td>...</td>\n",
       "      <td>...</td>\n",
       "      <td>...</td>\n",
       "      <td>...</td>\n",
       "      <td>...</td>\n",
       "      <td>...</td>\n",
       "      <td>...</td>\n",
       "      <td>...</td>\n",
       "      <td>...</td>\n",
       "    </tr>\n",
       "    <tr>\n",
       "      <th>633</th>\n",
       "      <td>Supply Chain Ma0gement</td>\n",
       "      <td>0</td>\n",
       "      <td>0</td>\n",
       "      <td>0</td>\n",
       "      <td>0</td>\n",
       "      <td>0</td>\n",
       "      <td>0</td>\n",
       "      <td>0</td>\n",
       "      <td>1</td>\n",
       "      <td>0</td>\n",
       "    </tr>\n",
       "    <tr>\n",
       "      <th>637</th>\n",
       "      <td>Task Ma0gement</td>\n",
       "      <td>0</td>\n",
       "      <td>0</td>\n",
       "      <td>0</td>\n",
       "      <td>0</td>\n",
       "      <td>0</td>\n",
       "      <td>0</td>\n",
       "      <td>0</td>\n",
       "      <td>1</td>\n",
       "      <td>0</td>\n",
       "    </tr>\n",
       "    <tr>\n",
       "      <th>654</th>\n",
       "      <td>Travel &amp; Tourism</td>\n",
       "      <td>0</td>\n",
       "      <td>0</td>\n",
       "      <td>0</td>\n",
       "      <td>1</td>\n",
       "      <td>0</td>\n",
       "      <td>0</td>\n",
       "      <td>0</td>\n",
       "      <td>0</td>\n",
       "      <td>0</td>\n",
       "    </tr>\n",
       "    <tr>\n",
       "      <th>664</th>\n",
       "      <td>Veteri0ry</td>\n",
       "      <td>0</td>\n",
       "      <td>0</td>\n",
       "      <td>0</td>\n",
       "      <td>0</td>\n",
       "      <td>1</td>\n",
       "      <td>0</td>\n",
       "      <td>0</td>\n",
       "      <td>0</td>\n",
       "      <td>0</td>\n",
       "    </tr>\n",
       "    <tr>\n",
       "      <th>672</th>\n",
       "      <td>Waste Ma0gement</td>\n",
       "      <td>0</td>\n",
       "      <td>0</td>\n",
       "      <td>1</td>\n",
       "      <td>0</td>\n",
       "      <td>0</td>\n",
       "      <td>0</td>\n",
       "      <td>0</td>\n",
       "      <td>0</td>\n",
       "      <td>0</td>\n",
       "    </tr>\n",
       "  </tbody>\n",
       "</table>\n",
       "<p>81 rows × 10 columns</p>\n",
       "</div>"
      ],
      "text/plain": [
       "              category_list  Automotive & Sports  Blanks  \\\n",
       "1                        3D                    0       0   \n",
       "2               3D Printing                    0       0   \n",
       "3             3D Technology                    0       0   \n",
       "20      Alter0tive Medicine                    0       0   \n",
       "22                 A0lytics                    0       0   \n",
       "..                      ...                  ...     ...   \n",
       "633  Supply Chain Ma0gement                    0       0   \n",
       "637          Task Ma0gement                    0       0   \n",
       "654        Travel & Tourism                    0       0   \n",
       "664               Veteri0ry                    0       0   \n",
       "672         Waste Ma0gement                    0       0   \n",
       "\n",
       "     Cleantech / Semiconductors  Entertainment  Health  Manufacturing  \\\n",
       "1                             0              0       0              1   \n",
       "2                             0              0       0              1   \n",
       "3                             0              0       0              1   \n",
       "20                            0              0       1              0   \n",
       "22                            0              0       0              0   \n",
       "..                          ...            ...     ...            ...   \n",
       "633                           0              0       0              0   \n",
       "637                           0              0       0              0   \n",
       "654                           0              1       0              0   \n",
       "664                           0              0       1              0   \n",
       "672                           1              0       0              0   \n",
       "\n",
       "     News, Search and Messaging  Others  \\\n",
       "1                             0       0   \n",
       "2                             0       0   \n",
       "3                             0       0   \n",
       "20                            0       0   \n",
       "22                            0       0   \n",
       "..                          ...     ...   \n",
       "633                           0       1   \n",
       "637                           0       1   \n",
       "654                           0       0   \n",
       "664                           0       0   \n",
       "672                           0       0   \n",
       "\n",
       "     Social, Finance, Analytics, Advertising  \n",
       "1                                          0  \n",
       "2                                          0  \n",
       "3                                          0  \n",
       "20                                         0  \n",
       "22                                         1  \n",
       "..                                       ...  \n",
       "633                                        0  \n",
       "637                                        0  \n",
       "654                                        0  \n",
       "664                                        0  \n",
       "672                                        0  \n",
       "\n",
       "[81 rows x 10 columns]"
      ]
     },
     "execution_count": 1641,
     "metadata": {},
     "output_type": "execute_result"
    }
   ],
   "source": [
    "#serach for values which have Numeric/ symbols in the category_list column\n",
    "mapping[mapping.category_list.str.match(r'^[a-zA-Z ]+$')==False]"
   ]
  },
  {
   "cell_type": "markdown",
   "metadata": {},
   "source": [
    "Looking at The data retrieved  seems most of the data is in order except at places 'na' semms to be replaced by 0. So lets correct that back to na"
   ]
  },
  {
   "cell_type": "code",
   "execution_count": 1642,
   "metadata": {},
   "outputs": [],
   "source": [
    "# Replace o by na in category_list\n",
    "mapping['category_list']=mapping['category_list'].str.replace('0','na')"
   ]
  },
  {
   "cell_type": "markdown",
   "metadata": {},
   "source": [
    "Now that we got correct dataframe of mapping lets melt down the mapping dataframe"
   ]
  },
  {
   "cell_type": "code",
   "execution_count": 1643,
   "metadata": {},
   "outputs": [],
   "source": [
    "#melt to create mapping_sector dataframe\n",
    "mapping_sector = mapping.melt(id_vars=['category_list'],value_name='sector_value')\n",
    "\n",
    "#seggregate values on sector_value=1\n",
    "mapping_sector = mapping_sector[mapping_sector.sector_value==1]"
   ]
  },
  {
   "cell_type": "code",
   "execution_count": 1644,
   "metadata": {
    "scrolled": true
   },
   "outputs": [
    {
     "data": {
      "text/html": [
       "<div>\n",
       "<style scoped>\n",
       "    .dataframe tbody tr th:only-of-type {\n",
       "        vertical-align: middle;\n",
       "    }\n",
       "\n",
       "    .dataframe tbody tr th {\n",
       "        vertical-align: top;\n",
       "    }\n",
       "\n",
       "    .dataframe thead th {\n",
       "        text-align: right;\n",
       "    }\n",
       "</style>\n",
       "<table border=\"1\" class=\"dataframe\">\n",
       "  <thead>\n",
       "    <tr style=\"text-align: right;\">\n",
       "      <th></th>\n",
       "      <th>category_list</th>\n",
       "      <th>variable</th>\n",
       "      <th>sector_value</th>\n",
       "    </tr>\n",
       "  </thead>\n",
       "  <tbody>\n",
       "    <tr>\n",
       "      <th>8</th>\n",
       "      <td>Adventure Travel</td>\n",
       "      <td>Automotive &amp; Sports</td>\n",
       "      <td>1</td>\n",
       "    </tr>\n",
       "    <tr>\n",
       "      <th>14</th>\n",
       "      <td>Aerospace</td>\n",
       "      <td>Automotive &amp; Sports</td>\n",
       "      <td>1</td>\n",
       "    </tr>\n",
       "    <tr>\n",
       "      <th>45</th>\n",
       "      <td>Auto</td>\n",
       "      <td>Automotive &amp; Sports</td>\n",
       "      <td>1</td>\n",
       "    </tr>\n",
       "    <tr>\n",
       "      <th>46</th>\n",
       "      <td>Automated Kiosk</td>\n",
       "      <td>Automotive &amp; Sports</td>\n",
       "      <td>1</td>\n",
       "    </tr>\n",
       "    <tr>\n",
       "      <th>47</th>\n",
       "      <td>Automotive</td>\n",
       "      <td>Automotive &amp; Sports</td>\n",
       "      <td>1</td>\n",
       "    </tr>\n",
       "    <tr>\n",
       "      <th>...</th>\n",
       "      <td>...</td>\n",
       "      <td>...</td>\n",
       "      <td>...</td>\n",
       "    </tr>\n",
       "    <tr>\n",
       "      <th>6121</th>\n",
       "      <td>Social Recruiting</td>\n",
       "      <td>Social, Finance, Analytics, Advertising</td>\n",
       "      <td>1</td>\n",
       "    </tr>\n",
       "    <tr>\n",
       "      <th>6122</th>\n",
       "      <td>Social Television</td>\n",
       "      <td>Social, Finance, Analytics, Advertising</td>\n",
       "      <td>1</td>\n",
       "    </tr>\n",
       "    <tr>\n",
       "      <th>6123</th>\n",
       "      <td>Social Travel</td>\n",
       "      <td>Social, Finance, Analytics, Advertising</td>\n",
       "      <td>1</td>\n",
       "    </tr>\n",
       "    <tr>\n",
       "      <th>6134</th>\n",
       "      <td>Stock Exchanges</td>\n",
       "      <td>Social, Finance, Analytics, Advertising</td>\n",
       "      <td>1</td>\n",
       "    </tr>\n",
       "    <tr>\n",
       "      <th>6167</th>\n",
       "      <td>Venture Capital</td>\n",
       "      <td>Social, Finance, Analytics, Advertising</td>\n",
       "      <td>1</td>\n",
       "    </tr>\n",
       "  </tbody>\n",
       "</table>\n",
       "<p>688 rows × 3 columns</p>\n",
       "</div>"
      ],
      "text/plain": [
       "          category_list                                 variable  sector_value\n",
       "8      Adventure Travel                      Automotive & Sports             1\n",
       "14            Aerospace                      Automotive & Sports             1\n",
       "45                 Auto                      Automotive & Sports             1\n",
       "46      Automated Kiosk                      Automotive & Sports             1\n",
       "47           Automotive                      Automotive & Sports             1\n",
       "...                 ...                                      ...           ...\n",
       "6121  Social Recruiting  Social, Finance, Analytics, Advertising             1\n",
       "6122  Social Television  Social, Finance, Analytics, Advertising             1\n",
       "6123      Social Travel  Social, Finance, Analytics, Advertising             1\n",
       "6134    Stock Exchanges  Social, Finance, Analytics, Advertising             1\n",
       "6167    Venture Capital  Social, Finance, Analytics, Advertising             1\n",
       "\n",
       "[688 rows x 3 columns]"
      ]
     },
     "execution_count": 1644,
     "metadata": {},
     "output_type": "execute_result"
    }
   ],
   "source": [
    "#Print top 5 rows of mapping_sector\n",
    "mapping_sector"
   ]
  },
  {
   "cell_type": "markdown",
   "metadata": {},
   "source": [
    "Remove sector_value column and reset index"
   ]
  },
  {
   "cell_type": "code",
   "execution_count": 1645,
   "metadata": {},
   "outputs": [],
   "source": [
    "# Reset Index and drop unwanted columns\n",
    "mapping_sector = mapping_sector.reset_index().drop(['index','sector_value'],axis=1)"
   ]
  },
  {
   "cell_type": "code",
   "execution_count": 1646,
   "metadata": {},
   "outputs": [
    {
     "data": {
      "text/html": [
       "<div>\n",
       "<style scoped>\n",
       "    .dataframe tbody tr th:only-of-type {\n",
       "        vertical-align: middle;\n",
       "    }\n",
       "\n",
       "    .dataframe tbody tr th {\n",
       "        vertical-align: top;\n",
       "    }\n",
       "\n",
       "    .dataframe thead th {\n",
       "        text-align: right;\n",
       "    }\n",
       "</style>\n",
       "<table border=\"1\" class=\"dataframe\">\n",
       "  <thead>\n",
       "    <tr style=\"text-align: right;\">\n",
       "      <th></th>\n",
       "      <th>name</th>\n",
       "      <th>category_list</th>\n",
       "      <th>country_code</th>\n",
       "      <th>amount_usd_millions</th>\n",
       "      <th>funding_round_type</th>\n",
       "      <th>primary_sector</th>\n",
       "      <th>variable</th>\n",
       "    </tr>\n",
       "  </thead>\n",
       "  <tbody>\n",
       "    <tr>\n",
       "      <th>0</th>\n",
       "      <td>#fame</td>\n",
       "      <td>Media</td>\n",
       "      <td>IND</td>\n",
       "      <td>10.00</td>\n",
       "      <td>venture</td>\n",
       "      <td>Media</td>\n",
       "      <td>Entertainment</td>\n",
       "    </tr>\n",
       "    <tr>\n",
       "      <th>1</th>\n",
       "      <td>All Def Digital</td>\n",
       "      <td>Media</td>\n",
       "      <td>USA</td>\n",
       "      <td>5.00</td>\n",
       "      <td>venture</td>\n",
       "      <td>Media</td>\n",
       "      <td>Entertainment</td>\n",
       "    </tr>\n",
       "    <tr>\n",
       "      <th>2</th>\n",
       "      <td>Genius Monkey</td>\n",
       "      <td>Media</td>\n",
       "      <td>USA</td>\n",
       "      <td>2.00</td>\n",
       "      <td>venture</td>\n",
       "      <td>Media</td>\n",
       "      <td>Entertainment</td>\n",
       "    </tr>\n",
       "    <tr>\n",
       "      <th>3</th>\n",
       "      <td>Glass Media</td>\n",
       "      <td>Media</td>\n",
       "      <td>USA</td>\n",
       "      <td>0.03</td>\n",
       "      <td>venture</td>\n",
       "      <td>Media</td>\n",
       "      <td>Entertainment</td>\n",
       "    </tr>\n",
       "    <tr>\n",
       "      <th>4</th>\n",
       "      <td>Marine Construction Technologies</td>\n",
       "      <td>Media</td>\n",
       "      <td>USA</td>\n",
       "      <td>0.12</td>\n",
       "      <td>venture</td>\n",
       "      <td>Media</td>\n",
       "      <td>Entertainment</td>\n",
       "    </tr>\n",
       "  </tbody>\n",
       "</table>\n",
       "</div>"
      ],
      "text/plain": [
       "                               name category_list country_code  \\\n",
       "0                             #fame         Media          IND   \n",
       "1                   All Def Digital         Media          USA   \n",
       "2                     Genius Monkey         Media          USA   \n",
       "3                       Glass Media         Media          USA   \n",
       "4  Marine Construction Technologies         Media          USA   \n",
       "\n",
       "   amount_usd_millions funding_round_type primary_sector       variable  \n",
       "0                10.00            venture          Media  Entertainment  \n",
       "1                 5.00            venture          Media  Entertainment  \n",
       "2                 2.00            venture          Media  Entertainment  \n",
       "3                 0.03            venture          Media  Entertainment  \n",
       "4                 0.12            venture          Media  Entertainment  "
      ]
     },
     "execution_count": 1646,
     "metadata": {},
     "output_type": "execute_result"
    }
   ],
   "source": [
    "# Merge dataframes final_frame and mapping_sector on category_list\n",
    "analysis_master = pd.merge(final_frame,mapping_sector,how='inner',on='category_list')\n",
    "\n",
    "#Display top 5 rows\n",
    "analysis_master.head()"
   ]
  },
  {
   "cell_type": "code",
   "execution_count": 1647,
   "metadata": {},
   "outputs": [
    {
     "data": {
      "text/html": [
       "<div>\n",
       "<style scoped>\n",
       "    .dataframe tbody tr th:only-of-type {\n",
       "        vertical-align: middle;\n",
       "    }\n",
       "\n",
       "    .dataframe tbody tr th {\n",
       "        vertical-align: top;\n",
       "    }\n",
       "\n",
       "    .dataframe thead th {\n",
       "        text-align: right;\n",
       "    }\n",
       "</style>\n",
       "<table border=\"1\" class=\"dataframe\">\n",
       "  <thead>\n",
       "    <tr style=\"text-align: right;\">\n",
       "      <th></th>\n",
       "      <th>name</th>\n",
       "      <th>category_list</th>\n",
       "      <th>country_code</th>\n",
       "      <th>amount_usd_millions</th>\n",
       "      <th>funding_round_type</th>\n",
       "      <th>primary_sector</th>\n",
       "      <th>main_sector</th>\n",
       "    </tr>\n",
       "  </thead>\n",
       "  <tbody>\n",
       "    <tr>\n",
       "      <th>0</th>\n",
       "      <td>#fame</td>\n",
       "      <td>Media</td>\n",
       "      <td>IND</td>\n",
       "      <td>10.00</td>\n",
       "      <td>venture</td>\n",
       "      <td>Media</td>\n",
       "      <td>Entertainment</td>\n",
       "    </tr>\n",
       "    <tr>\n",
       "      <th>1</th>\n",
       "      <td>All Def Digital</td>\n",
       "      <td>Media</td>\n",
       "      <td>USA</td>\n",
       "      <td>5.00</td>\n",
       "      <td>venture</td>\n",
       "      <td>Media</td>\n",
       "      <td>Entertainment</td>\n",
       "    </tr>\n",
       "    <tr>\n",
       "      <th>2</th>\n",
       "      <td>Genius Monkey</td>\n",
       "      <td>Media</td>\n",
       "      <td>USA</td>\n",
       "      <td>2.00</td>\n",
       "      <td>venture</td>\n",
       "      <td>Media</td>\n",
       "      <td>Entertainment</td>\n",
       "    </tr>\n",
       "    <tr>\n",
       "      <th>3</th>\n",
       "      <td>Glass Media</td>\n",
       "      <td>Media</td>\n",
       "      <td>USA</td>\n",
       "      <td>0.03</td>\n",
       "      <td>venture</td>\n",
       "      <td>Media</td>\n",
       "      <td>Entertainment</td>\n",
       "    </tr>\n",
       "    <tr>\n",
       "      <th>4</th>\n",
       "      <td>Marine Construction Technologies</td>\n",
       "      <td>Media</td>\n",
       "      <td>USA</td>\n",
       "      <td>0.12</td>\n",
       "      <td>venture</td>\n",
       "      <td>Media</td>\n",
       "      <td>Entertainment</td>\n",
       "    </tr>\n",
       "  </tbody>\n",
       "</table>\n",
       "</div>"
      ],
      "text/plain": [
       "                               name category_list country_code  \\\n",
       "0                             #fame         Media          IND   \n",
       "1                   All Def Digital         Media          USA   \n",
       "2                     Genius Monkey         Media          USA   \n",
       "3                       Glass Media         Media          USA   \n",
       "4  Marine Construction Technologies         Media          USA   \n",
       "\n",
       "   amount_usd_millions funding_round_type primary_sector    main_sector  \n",
       "0                10.00            venture          Media  Entertainment  \n",
       "1                 5.00            venture          Media  Entertainment  \n",
       "2                 2.00            venture          Media  Entertainment  \n",
       "3                 0.03            venture          Media  Entertainment  \n",
       "4                 0.12            venture          Media  Entertainment  "
      ]
     },
     "execution_count": 1647,
     "metadata": {},
     "output_type": "execute_result"
    }
   ],
   "source": [
    "#Rename column variable\n",
    "analysis_master.rename(columns = {'variable':'main_sector'},inplace = True)\n",
    "\n",
    "#Display top 5 rows\n",
    "analysis_master.head()"
   ]
  },
  {
   "cell_type": "code",
   "execution_count": 1648,
   "metadata": {},
   "outputs": [
    {
     "data": {
      "text/plain": [
       "name                   0\n",
       "category_list          0\n",
       "country_code           0\n",
       "amount_usd_millions    0\n",
       "funding_round_type     0\n",
       "primary_sector         0\n",
       "main_sector            0\n",
       "dtype: int64"
      ]
     },
     "execution_count": 1648,
     "metadata": {},
     "output_type": "execute_result"
    }
   ],
   "source": [
    "#Check for any null values\n",
    "analysis_master.isnull().sum()"
   ]
  },
  {
   "cell_type": "code",
   "execution_count": 1649,
   "metadata": {},
   "outputs": [],
   "source": [
    "# Drop all rows which couldn't get mapped (and we drop blanks as there are only 8 sectors)\n",
    "analysis_master = analysis_master[analysis_master['main_sector'] != 'Blanks']"
   ]
  },
  {
   "cell_type": "code",
   "execution_count": 1651,
   "metadata": {},
   "outputs": [
    {
     "data": {
      "image/png": "[encoded data removed]",
      "text/plain": [
       "<Figure size 800x600 with 1 Axes>"
      ]
     },
     "metadata": {},
     "output_type": "display_data"
    }
   ],
   "source": [
    "# Draw a barplot for all sectors and their frequency of occurance in dataframe\n",
    "\n",
    "sector_vals = analysis_master.main_sector.value_counts()\n",
    "\n",
    "plt.figure(figsize=(8, 6))\n",
    "sns.barplot(x=sector_vals.values, y=sector_vals.index)\n",
    "plt.show()\n"
   ]
  },
  {
   "cell_type": "markdown",
   "metadata": {},
   "source": [
    "We know the top three English speaking countries(USA,GBR,IND) and the most suitable funding type for Spark Funds. <br>\n",
    "Also, the range of funding preferred by Spark Funds is 5 to 15 million USD.<br>\n",
    "Now, the aim is to find out the most heavily invested main sectors in each of the three countries<br> \n",
    "D1-USA , D2=GBR , D3=IND"
   ]
  },
  {
   "cell_type": "markdown",
   "metadata": {},
   "source": [
    "## USA"
   ]
  },
  {
   "cell_type": "code",
   "execution_count": 1653,
   "metadata": {},
   "outputs": [
    {
     "name": "stdout",
     "output_type": "stream",
     "text": [
      "6155\n",
      "55075.98\n"
     ]
    },
    {
     "data": {
      "text/html": [
       "<div>\n",
       "<style scoped>\n",
       "    .dataframe tbody tr th:only-of-type {\n",
       "        vertical-align: middle;\n",
       "    }\n",
       "\n",
       "    .dataframe tbody tr th {\n",
       "        vertical-align: top;\n",
       "    }\n",
       "\n",
       "    .dataframe thead th {\n",
       "        text-align: right;\n",
       "    }\n",
       "</style>\n",
       "<table border=\"1\" class=\"dataframe\">\n",
       "  <thead>\n",
       "    <tr style=\"text-align: right;\">\n",
       "      <th></th>\n",
       "      <th>name</th>\n",
       "      <th>category_list</th>\n",
       "      <th>country_code</th>\n",
       "      <th>amount_usd_millions</th>\n",
       "      <th>funding_round_type</th>\n",
       "      <th>primary_sector</th>\n",
       "      <th>main_sector</th>\n",
       "      <th>main_sector_invest</th>\n",
       "      <th>main_sector_invest_amount</th>\n",
       "    </tr>\n",
       "  </thead>\n",
       "  <tbody>\n",
       "    <tr>\n",
       "      <th>0</th>\n",
       "      <td>All Def Digital</td>\n",
       "      <td>Media</td>\n",
       "      <td>USA</td>\n",
       "      <td>5.00</td>\n",
       "      <td>venture</td>\n",
       "      <td>Media</td>\n",
       "      <td>Entertainment</td>\n",
       "      <td>198</td>\n",
       "      <td>1702.13</td>\n",
       "    </tr>\n",
       "    <tr>\n",
       "      <th>1</th>\n",
       "      <td>H2O.ai</td>\n",
       "      <td>Analytics</td>\n",
       "      <td>USA</td>\n",
       "      <td>8.90</td>\n",
       "      <td>venture</td>\n",
       "      <td>Analytics</td>\n",
       "      <td>Social, Finance, Analytics, Advertising</td>\n",
       "      <td>529</td>\n",
       "      <td>4519.59</td>\n",
       "    </tr>\n",
       "    <tr>\n",
       "      <th>2</th>\n",
       "      <td>Accelerated Vision Group</td>\n",
       "      <td>Analytics</td>\n",
       "      <td>USA</td>\n",
       "      <td>6.00</td>\n",
       "      <td>venture</td>\n",
       "      <td>Analytics</td>\n",
       "      <td>Social, Finance, Analytics, Advertising</td>\n",
       "      <td>529</td>\n",
       "      <td>4519.59</td>\n",
       "    </tr>\n",
       "    <tr>\n",
       "      <th>3</th>\n",
       "      <td>Affectiva</td>\n",
       "      <td>Analytics</td>\n",
       "      <td>USA</td>\n",
       "      <td>12.00</td>\n",
       "      <td>venture</td>\n",
       "      <td>Analytics</td>\n",
       "      <td>Social, Finance, Analytics, Advertising</td>\n",
       "      <td>529</td>\n",
       "      <td>4519.59</td>\n",
       "    </tr>\n",
       "    <tr>\n",
       "      <th>4</th>\n",
       "      <td>Affectiva</td>\n",
       "      <td>Analytics</td>\n",
       "      <td>USA</td>\n",
       "      <td>5.72</td>\n",
       "      <td>venture</td>\n",
       "      <td>Analytics</td>\n",
       "      <td>Social, Finance, Analytics, Advertising</td>\n",
       "      <td>529</td>\n",
       "      <td>4519.59</td>\n",
       "    </tr>\n",
       "  </tbody>\n",
       "</table>\n",
       "</div>"
      ],
      "text/plain": [
       "                       name category_list country_code  amount_usd_millions  \\\n",
       "0           All Def Digital         Media          USA                 5.00   \n",
       "1                    H2O.ai     Analytics          USA                 8.90   \n",
       "2  Accelerated Vision Group     Analytics          USA                 6.00   \n",
       "3                 Affectiva     Analytics          USA                12.00   \n",
       "4                 Affectiva     Analytics          USA                 5.72   \n",
       "\n",
       "  funding_round_type primary_sector                              main_sector  \\\n",
       "0            venture          Media                            Entertainment   \n",
       "1            venture      Analytics  Social, Finance, Analytics, Advertising   \n",
       "2            venture      Analytics  Social, Finance, Analytics, Advertising   \n",
       "3            venture      Analytics  Social, Finance, Analytics, Advertising   \n",
       "4            venture      Analytics  Social, Finance, Analytics, Advertising   \n",
       "\n",
       "   main_sector_invest  main_sector_invest_amount  \n",
       "0                 198                    1702.13  \n",
       "1                 529                    4519.59  \n",
       "2                 529                    4519.59  \n",
       "3                 529                    4519.59  \n",
       "4                 529                    4519.59  "
      ]
     },
     "execution_count": 1653,
     "metadata": {},
     "output_type": "execute_result"
    }
   ],
   "source": [
    "# Create Dataframe D1 for country USA with \n",
    "D1 = analysis_master[(analysis_master.country_code=='USA') & (analysis_master.amount_usd_millions>=5) & (analysis_master.amount_usd_millions<=15)] \n",
    "\n",
    "\n",
    "#Reset Index of dataframe\n",
    "D1 = D1.reset_index().drop('index',axis=1)\n",
    "\n",
    "#Creating Pivot Table  for detailed analysis\n",
    "D1_groupby = D1.groupby(D1.main_sector).amount_usd_millions.aggregate(['count','sum'])\n",
    "\n",
    "#Add details of grouping to D1\n",
    "D1['main_sector_invest'] = D1['main_sector'].apply(lambda x : D1_groupby.loc[x,'count'])\n",
    "D1['main_sector_invest_amount'] = D1['main_sector'].apply(lambda x : D1_groupby.loc[x,'sum'])\n",
    "\n",
    "\n",
    "# Total number of Investments\n",
    "print(D1.main_sector.count())\n",
    "\n",
    "#Total Amount of Investment\n",
    "print(D1.amount_usd_millions.sum())\n",
    "\n",
    "#Print top 5 rows\n",
    "D1.head()\n",
    "\n"
   ]
  },
  {
   "cell_type": "markdown",
   "metadata": {},
   "source": [
    "## GBR"
   ]
  },
  {
   "cell_type": "code",
   "execution_count": 1656,
   "metadata": {},
   "outputs": [
    {
     "name": "stdout",
     "output_type": "stream",
     "text": [
      "343\n",
      "3027.93\n"
     ]
    },
    {
     "data": {
      "text/html": [
       "<div>\n",
       "<style scoped>\n",
       "    .dataframe tbody tr th:only-of-type {\n",
       "        vertical-align: middle;\n",
       "    }\n",
       "\n",
       "    .dataframe tbody tr th {\n",
       "        vertical-align: top;\n",
       "    }\n",
       "\n",
       "    .dataframe thead th {\n",
       "        text-align: right;\n",
       "    }\n",
       "</style>\n",
       "<table border=\"1\" class=\"dataframe\">\n",
       "  <thead>\n",
       "    <tr style=\"text-align: right;\">\n",
       "      <th></th>\n",
       "      <th>name</th>\n",
       "      <th>category_list</th>\n",
       "      <th>country_code</th>\n",
       "      <th>amount_usd_millions</th>\n",
       "      <th>funding_round_type</th>\n",
       "      <th>primary_sector</th>\n",
       "      <th>main_sector</th>\n",
       "      <th>main_sector_invest</th>\n",
       "      <th>main_sector_invest_amount</th>\n",
       "    </tr>\n",
       "  </thead>\n",
       "  <tbody>\n",
       "    <tr>\n",
       "      <th>0</th>\n",
       "      <td>Smart Cube</td>\n",
       "      <td>Analytics</td>\n",
       "      <td>GBR</td>\n",
       "      <td>6.41</td>\n",
       "      <td>venture</td>\n",
       "      <td>Analytics</td>\n",
       "      <td>Social, Finance, Analytics, Advertising</td>\n",
       "      <td>24</td>\n",
       "      <td>205.61</td>\n",
       "    </tr>\n",
       "    <tr>\n",
       "      <th>1</th>\n",
       "      <td>Starcount</td>\n",
       "      <td>Curated Web</td>\n",
       "      <td>GBR</td>\n",
       "      <td>7.46</td>\n",
       "      <td>venture</td>\n",
       "      <td>Curated Web</td>\n",
       "      <td>News, Search and Messaging</td>\n",
       "      <td>31</td>\n",
       "      <td>274.14</td>\n",
       "    </tr>\n",
       "    <tr>\n",
       "      <th>2</th>\n",
       "      <td>mySupermarket</td>\n",
       "      <td>Curated Web</td>\n",
       "      <td>GBR</td>\n",
       "      <td>7.40</td>\n",
       "      <td>venture</td>\n",
       "      <td>Curated Web</td>\n",
       "      <td>News, Search and Messaging</td>\n",
       "      <td>31</td>\n",
       "      <td>274.14</td>\n",
       "    </tr>\n",
       "    <tr>\n",
       "      <th>3</th>\n",
       "      <td>mySupermarket</td>\n",
       "      <td>Curated Web</td>\n",
       "      <td>GBR</td>\n",
       "      <td>6.00</td>\n",
       "      <td>venture</td>\n",
       "      <td>Curated Web</td>\n",
       "      <td>News, Search and Messaging</td>\n",
       "      <td>31</td>\n",
       "      <td>274.14</td>\n",
       "    </tr>\n",
       "    <tr>\n",
       "      <th>4</th>\n",
       "      <td>mySupermarket</td>\n",
       "      <td>Curated Web</td>\n",
       "      <td>GBR</td>\n",
       "      <td>10.00</td>\n",
       "      <td>venture</td>\n",
       "      <td>Curated Web</td>\n",
       "      <td>News, Search and Messaging</td>\n",
       "      <td>31</td>\n",
       "      <td>274.14</td>\n",
       "    </tr>\n",
       "  </tbody>\n",
       "</table>\n",
       "</div>"
      ],
      "text/plain": [
       "            name category_list country_code  amount_usd_millions  \\\n",
       "0     Smart Cube     Analytics          GBR                 6.41   \n",
       "1      Starcount   Curated Web          GBR                 7.46   \n",
       "2  mySupermarket   Curated Web          GBR                 7.40   \n",
       "3  mySupermarket   Curated Web          GBR                 6.00   \n",
       "4  mySupermarket   Curated Web          GBR                10.00   \n",
       "\n",
       "  funding_round_type primary_sector                              main_sector  \\\n",
       "0            venture      Analytics  Social, Finance, Analytics, Advertising   \n",
       "1            venture    Curated Web               News, Search and Messaging   \n",
       "2            venture    Curated Web               News, Search and Messaging   \n",
       "3            venture    Curated Web               News, Search and Messaging   \n",
       "4            venture    Curated Web               News, Search and Messaging   \n",
       "\n",
       "   main_sector_invest  main_sector_invest_amount  \n",
       "0                  24                     205.61  \n",
       "1                  31                     274.14  \n",
       "2                  31                     274.14  \n",
       "3                  31                     274.14  \n",
       "4                  31                     274.14  "
      ]
     },
     "execution_count": 1656,
     "metadata": {},
     "output_type": "execute_result"
    }
   ],
   "source": [
    "# Create Dataframe D2 for country GBR with \n",
    "D2 = analysis_master[(analysis_master.country_code=='GBR') & (analysis_master.amount_usd_millions>=5) & (analysis_master.amount_usd_millions<=15)] \n",
    "\n",
    "#Reset Index of dataframe\n",
    "D2 = D2.reset_index().drop('index',axis=1)\n",
    "\n",
    "#Creating Pivot Table  for detailed analysis\n",
    "D2_groupby = D2.groupby(D2.main_sector).amount_usd_millions.aggregate(['count','sum'])\n",
    "\n",
    "#Add details of grouping to D1\n",
    "D2['main_sector_invest'] = D2['main_sector'].apply(lambda x : D2_groupby.loc[x,'count'])\n",
    "D2['main_sector_invest_amount'] = D2['main_sector'].apply(lambda x : D2_groupby.loc[x,'sum'])\n",
    "\n",
    "\n",
    "#Display top 5 rows D1\n",
    "D2.head()\n",
    "\n",
    "\n",
    "# Total number of Investments\n",
    "print(D2.main_sector.count())\n",
    "\n",
    "#Total Amount of Investment\n",
    "print(D2.amount_usd_millions.sum())\n",
    "\n",
    "#print top 5 Rows\n",
    "D2.head()"
   ]
  },
  {
   "cell_type": "markdown",
   "metadata": {},
   "source": [
    "## IND"
   ]
  },
  {
   "cell_type": "code",
   "execution_count": 1657,
   "metadata": {},
   "outputs": [
    {
     "name": "stdout",
     "output_type": "stream",
     "text": [
      "186\n",
      "1629.87\n"
     ]
    },
    {
     "data": {
      "text/html": [
       "<div>\n",
       "<style scoped>\n",
       "    .dataframe tbody tr th:only-of-type {\n",
       "        vertical-align: middle;\n",
       "    }\n",
       "\n",
       "    .dataframe tbody tr th {\n",
       "        vertical-align: top;\n",
       "    }\n",
       "\n",
       "    .dataframe thead th {\n",
       "        text-align: right;\n",
       "    }\n",
       "</style>\n",
       "<table border=\"1\" class=\"dataframe\">\n",
       "  <thead>\n",
       "    <tr style=\"text-align: right;\">\n",
       "      <th></th>\n",
       "      <th>name</th>\n",
       "      <th>category_list</th>\n",
       "      <th>country_code</th>\n",
       "      <th>amount_usd_millions</th>\n",
       "      <th>funding_round_type</th>\n",
       "      <th>primary_sector</th>\n",
       "      <th>main_sector</th>\n",
       "      <th>main_sector_invest</th>\n",
       "      <th>main_sector_invest_amount</th>\n",
       "    </tr>\n",
       "  </thead>\n",
       "  <tbody>\n",
       "    <tr>\n",
       "      <th>0</th>\n",
       "      <td>#fame</td>\n",
       "      <td>Media</td>\n",
       "      <td>IND</td>\n",
       "      <td>10.0</td>\n",
       "      <td>venture</td>\n",
       "      <td>Media</td>\n",
       "      <td>Entertainment</td>\n",
       "      <td>19</td>\n",
       "      <td>156.15</td>\n",
       "    </tr>\n",
       "    <tr>\n",
       "      <th>1</th>\n",
       "      <td>Microland</td>\n",
       "      <td>Analytics</td>\n",
       "      <td>IND</td>\n",
       "      <td>7.3</td>\n",
       "      <td>venture</td>\n",
       "      <td>Analytics</td>\n",
       "      <td>Social, Finance, Analytics, Advertising</td>\n",
       "      <td>22</td>\n",
       "      <td>183.61</td>\n",
       "    </tr>\n",
       "    <tr>\n",
       "      <th>2</th>\n",
       "      <td>Microland</td>\n",
       "      <td>Analytics</td>\n",
       "      <td>IND</td>\n",
       "      <td>11.0</td>\n",
       "      <td>venture</td>\n",
       "      <td>Analytics</td>\n",
       "      <td>Social, Finance, Analytics, Advertising</td>\n",
       "      <td>22</td>\n",
       "      <td>183.61</td>\n",
       "    </tr>\n",
       "    <tr>\n",
       "      <th>3</th>\n",
       "      <td>Spire Technologies</td>\n",
       "      <td>Analytics</td>\n",
       "      <td>IND</td>\n",
       "      <td>8.0</td>\n",
       "      <td>venture</td>\n",
       "      <td>Analytics</td>\n",
       "      <td>Social, Finance, Analytics, Advertising</td>\n",
       "      <td>22</td>\n",
       "      <td>183.61</td>\n",
       "    </tr>\n",
       "    <tr>\n",
       "      <th>4</th>\n",
       "      <td>Hippocampus Learning Centres</td>\n",
       "      <td>Education</td>\n",
       "      <td>IND</td>\n",
       "      <td>13.0</td>\n",
       "      <td>venture</td>\n",
       "      <td>Education</td>\n",
       "      <td>Others</td>\n",
       "      <td>74</td>\n",
       "      <td>675.17</td>\n",
       "    </tr>\n",
       "  </tbody>\n",
       "</table>\n",
       "</div>"
      ],
      "text/plain": [
       "                           name category_list country_code  \\\n",
       "0                         #fame         Media          IND   \n",
       "1                     Microland     Analytics          IND   \n",
       "2                     Microland     Analytics          IND   \n",
       "3            Spire Technologies     Analytics          IND   \n",
       "4  Hippocampus Learning Centres     Education          IND   \n",
       "\n",
       "   amount_usd_millions funding_round_type primary_sector  \\\n",
       "0                 10.0            venture          Media   \n",
       "1                  7.3            venture      Analytics   \n",
       "2                 11.0            venture      Analytics   \n",
       "3                  8.0            venture      Analytics   \n",
       "4                 13.0            venture      Education   \n",
       "\n",
       "                               main_sector  main_sector_invest  \\\n",
       "0                            Entertainment                  19   \n",
       "1  Social, Finance, Analytics, Advertising                  22   \n",
       "2  Social, Finance, Analytics, Advertising                  22   \n",
       "3  Social, Finance, Analytics, Advertising                  22   \n",
       "4                                   Others                  74   \n",
       "\n",
       "   main_sector_invest_amount  \n",
       "0                     156.15  \n",
       "1                     183.61  \n",
       "2                     183.61  \n",
       "3                     183.61  \n",
       "4                     675.17  "
      ]
     },
     "execution_count": 1657,
     "metadata": {},
     "output_type": "execute_result"
    }
   ],
   "source": [
    "# Create Dataframe D3 for country CAN with \n",
    "D3 = analysis_master[(analysis_master.country_code=='IND') & (analysis_master.amount_usd_millions>=5) & (analysis_master.amount_usd_millions<=15)] \n",
    "\n",
    "\n",
    "#Reset Index of dataframe\n",
    "D3 = D3.reset_index().drop('index',axis=1)\n",
    "\n",
    "#Creating Pivot Table  for detailed analysis\n",
    "D3_groupby = D3.groupby(D3.main_sector).amount_usd_millions.aggregate(['count','sum'])\n",
    "\n",
    "#Add details of grouping to D1\n",
    "D3['main_sector_invest'] = D3['main_sector'].apply(lambda x : D3_groupby.loc[x,'count'])\n",
    "D3['main_sector_invest_amount'] = D3['main_sector'].apply(lambda x : D3_groupby.loc[x,'sum'])\n",
    "\n",
    "\n",
    "# Total number of Investments\n",
    "print(D3.main_sector.count())\n",
    "\n",
    "#Total Amount of Investment\n",
    "print(D3.amount_usd_millions.sum())\n",
    "\n",
    "#Display top 5 rows D1\n",
    "D3.head()\n"
   ]
  },
  {
   "cell_type": "markdown",
   "metadata": {},
   "source": [
    "<b>Conclusion:</b> Business Descision can be take froim below data<br>\n",
    "Plot showing the number of investments in the top 3 sectors of the top 3 countries on one chart"
   ]
  },
  {
   "cell_type": "code",
   "execution_count": 1660,
   "metadata": {},
   "outputs": [
    {
     "name": "stdout",
     "output_type": "stream",
     "text": [
      "                            count       sum country\n",
      "main_sector                                        \n",
      "Others                       2076  18551.79     USA\n",
      "Cleantech / Semiconductors   1741  15981.02     USA\n",
      "Health                        605   5455.84     USA\n",
      "                            count     sum country\n",
      "main_sector                                      \n",
      "Cleantech / Semiconductors    107  942.81     GBR\n",
      "Others                        107  946.23     GBR\n",
      "News, Search and Messaging     31  274.14     GBR\n",
      "                                         count     sum country\n",
      "main_sector                                                   \n",
      "Others                                      74  675.17     IND\n",
      "News, Search and Messaging                  31  267.12     IND\n",
      "Social, Finance, Analytics, Advertising     22  183.61     IND\n"
     ]
    }
   ],
   "source": [
    "# number of investments in the top 3 sectors of the top 3 countries by count of investments\n",
    "top3_D1 = D1_groupby.sort_values(by='count',ascending=False).head(3)\n",
    "top3_D1['country'] = 'USA'\n",
    "\n",
    "top3_D2 = D2_groupby.sort_values(by='count',ascending=False).head(3)\n",
    "top3_D2['country'] = 'GBR'\n",
    "\n",
    "\n",
    "top3_D3 = D3_groupby.sort_values(by='count',ascending=False).head(3)\n",
    "top3_D3['country'] = 'IND'\n",
    "\n",
    "print(top3_D1)\n",
    "print(top3_D2)\n",
    "print(top3_D3)"
   ]
  },
  {
   "cell_type": "code",
   "execution_count": 1658,
   "metadata": {},
   "outputs": [
    {
     "name": "stdout",
     "output_type": "stream",
     "text": [
      "                            count       sum country\n",
      "main_sector                                        \n",
      "Others                       2076  18551.79     USA\n",
      "Cleantech / Semiconductors   1741  15981.02     USA\n",
      "Health                        605   5455.84     USA\n",
      "                            count     sum country\n",
      "main_sector                                      \n",
      "Others                        107  946.23     GBR\n",
      "Cleantech / Semiconductors    107  942.81     GBR\n",
      "News, Search and Messaging     31  274.14     GBR\n",
      "                                         count     sum country\n",
      "main_sector                                                   \n",
      "Others                                      74  675.17     IND\n",
      "News, Search and Messaging                  31  267.12     IND\n",
      "Social, Finance, Analytics, Advertising     22  183.61     IND\n"
     ]
    }
   ],
   "source": [
    "# number of investments in the top 3 sectors of the top 3 countries by total amount of investments\n",
    "top3_D1 = D1_groupby.sort_values(by='sum',ascending=False).head(3)\n",
    "top3_D1['country'] = 'USA'\n",
    "\n",
    "top3_D2 = D2_groupby.sort_values(by='sum',ascending=False).head(3)\n",
    "top3_D2['country'] = 'GBR'\n",
    "\n",
    "\n",
    "top3_D3 = D3_groupby.sort_values(by='sum',ascending=False).head(3)\n",
    "top3_D3['country'] = 'IND'\n",
    "\n",
    "print(top3_D1)\n",
    "print(top3_D2)\n",
    "print(top3_D3)"
   ]
  },
  {
   "cell_type": "code",
   "execution_count": 1659,
   "metadata": {},
   "outputs": [
    {
     "data": {
      "image/png": "[encoded data removed]",
      "text/plain": [
       "<Figure size 2500x2500 with 3 Axes>"
      ]
     },
     "metadata": {},
     "output_type": "display_data"
    }
   ],
   "source": [
    "# Draw plot\n",
    "plt.figure(figsize=[25,25])\n",
    "ax1 = plt.subplot(4, 4, 1)\n",
    "ax2 = plt.subplot(4, 4, 3)\n",
    "ax3 = plt.subplot(4, 4, 5)\n",
    "plt.style.use('classic')\n",
    "\n",
    "sns.barplot(y=top3_D1.index, x=top3_D1['count'], ax=ax1,hue=top3_D1.country,color='darkgreen',saturation=1).set(xlabel='Total Investments')\n",
    "sns.barplot(y=top3_D2.index, x=top3_D2['count'], ax=ax2 ,hue=top3_D2.country, color = 'darkred', saturation=1).set(xlabel='Total Investments')\n",
    "sns.barplot(y=top3_D3.index, x=top3_D3['count'], ax=ax3,hue=top3_D3.country, color ='purple', saturation=1).set(xlabel='Total Investments')\n",
    "\n",
    "\n",
    "plt.show()"
   ]
  },
  {
   "cell_type": "code",
   "execution_count": 1669,
   "metadata": {},
   "outputs": [
    {
     "name": "stdout",
     "output_type": "stream",
     "text": [
      "             name  amount_usd_millions\n",
      "1336  Virtustream                 64.3\n"
     ]
    },
    {
     "data": {
      "text/html": [
       "<div>\n",
       "<style scoped>\n",
       "    .dataframe tbody tr th:only-of-type {\n",
       "        vertical-align: middle;\n",
       "    }\n",
       "\n",
       "    .dataframe tbody tr th {\n",
       "        vertical-align: top;\n",
       "    }\n",
       "\n",
       "    .dataframe thead th {\n",
       "        text-align: right;\n",
       "    }\n",
       "</style>\n",
       "<table border=\"1\" class=\"dataframe\">\n",
       "  <thead>\n",
       "    <tr style=\"text-align: right;\">\n",
       "      <th></th>\n",
       "      <th>name</th>\n",
       "      <th>amount_usd_millions</th>\n",
       "    </tr>\n",
       "  </thead>\n",
       "  <tbody>\n",
       "    <tr>\n",
       "      <th>1066</th>\n",
       "      <td>Tigo Energy</td>\n",
       "      <td>68.73</td>\n",
       "    </tr>\n",
       "  </tbody>\n",
       "</table>\n",
       "</div>"
      ],
      "text/plain": [
       "             name  amount_usd_millions\n",
       "1066  Tigo Energy                68.73"
      ]
     },
     "execution_count": 1669,
     "metadata": {},
     "output_type": "execute_result"
    }
   ],
   "source": [
    "# company received the highest investment for the sector that has been invested most number of times for USA\n",
    "print(D1[D1['main_sector']=='Others'].groupby('name')['amount_usd_millions'].sum().reset_index().sort_values(by='amount_usd_millions',ascending=False).head(1))\n",
    "\n",
    "# company received the highest investment for the sector that has been invested second most number of times for USA\n",
    "D1[D1['main_sector']==r'Cleantech / Semiconductors'].groupby('name')['amount_usd_millions'].sum().reset_index().sort_values(by='amount_usd_millions',ascending=False).head(1)"
   ]
  },
  {
   "cell_type": "code",
   "execution_count": 1670,
   "metadata": {},
   "outputs": [
    {
     "name": "stdout",
     "output_type": "stream",
     "text": [
      "              name  amount_usd_millions\n",
      "26  Electric Cloud                 37.0\n"
     ]
    },
    {
     "data": {
      "text/html": [
       "<div>\n",
       "<style scoped>\n",
       "    .dataframe tbody tr th:only-of-type {\n",
       "        vertical-align: middle;\n",
       "    }\n",
       "\n",
       "    .dataframe tbody tr th {\n",
       "        vertical-align: top;\n",
       "    }\n",
       "\n",
       "    .dataframe thead th {\n",
       "        text-align: right;\n",
       "    }\n",
       "</style>\n",
       "<table border=\"1\" class=\"dataframe\">\n",
       "  <thead>\n",
       "    <tr style=\"text-align: right;\">\n",
       "      <th></th>\n",
       "      <th>name</th>\n",
       "      <th>amount_usd_millions</th>\n",
       "    </tr>\n",
       "  </thead>\n",
       "  <tbody>\n",
       "    <tr>\n",
       "      <th>21</th>\n",
       "      <td>EUSA Pharma</td>\n",
       "      <td>35.6</td>\n",
       "    </tr>\n",
       "  </tbody>\n",
       "</table>\n",
       "</div>"
      ],
      "text/plain": [
       "           name  amount_usd_millions\n",
       "21  EUSA Pharma                 35.6"
      ]
     },
     "execution_count": 1670,
     "metadata": {},
     "output_type": "execute_result"
    }
   ],
   "source": [
    "# company received the highest investment for the sector that has been invested most number of times for GBR\n",
    "print(D2[D2['main_sector']=='Others'].groupby('name')['amount_usd_millions'].sum().reset_index().sort_values(by='amount_usd_millions',ascending=False).head(1))\n",
    "\n",
    "# company received the highest investment for the sector that has been invested second most number of times for GBR\n",
    "D2[D2['main_sector']==r'Cleantech / Semiconductors'].groupby('name')['amount_usd_millions'].sum().reset_index().sort_values(by='amount_usd_millions',ascending=False).head(1)"
   ]
  },
  {
   "cell_type": "code",
   "execution_count": 1672,
   "metadata": {},
   "outputs": [
    {
     "name": "stdout",
     "output_type": "stream",
     "text": [
      "            name  amount_usd_millions\n",
      "17  FirstCry.com                 39.0\n"
     ]
    },
    {
     "data": {
      "text/html": [
       "<div>\n",
       "<style scoped>\n",
       "    .dataframe tbody tr th:only-of-type {\n",
       "        vertical-align: middle;\n",
       "    }\n",
       "\n",
       "    .dataframe tbody tr th {\n",
       "        vertical-align: top;\n",
       "    }\n",
       "\n",
       "    .dataframe thead th {\n",
       "        text-align: right;\n",
       "    }\n",
       "</style>\n",
       "<table border=\"1\" class=\"dataframe\">\n",
       "  <thead>\n",
       "    <tr style=\"text-align: right;\">\n",
       "      <th></th>\n",
       "      <th>name</th>\n",
       "      <th>amount_usd_millions</th>\n",
       "    </tr>\n",
       "  </thead>\n",
       "  <tbody>\n",
       "    <tr>\n",
       "      <th>5</th>\n",
       "      <td>GupShup</td>\n",
       "      <td>33.0</td>\n",
       "    </tr>\n",
       "  </tbody>\n",
       "</table>\n",
       "</div>"
      ],
      "text/plain": [
       "      name  amount_usd_millions\n",
       "5  GupShup                 33.0"
      ]
     },
     "execution_count": 1672,
     "metadata": {},
     "output_type": "execute_result"
    }
   ],
   "source": [
    "# company received the highest investment for the sector that has been invested most number of times for IND\n",
    "print(D3[D3['main_sector']=='Others'].groupby('name')['amount_usd_millions'].sum().reset_index().sort_values(by='amount_usd_millions',ascending=False).head(1))\n",
    "\n",
    "# company received the highest investment for the sector that has been invested second most number of times for IND\n",
    "D3[D3['main_sector']=='News, Search and Messaging'].groupby('name')['amount_usd_millions'].sum().reset_index().sort_values(by='amount_usd_millions',ascending=False).head(1)"
   ]
  },
  {
   "cell_type": "markdown",
   "metadata": {},
   "source": [
    "#### Spark Funds might chose to invest in one of the top3 sectors of top3 countries based on their business requirement"
   ]
  }
 ],
 "metadata": {
  "kernelspec": {
   "display_name": "Python 3",
   "language": "python",
   "name": "python3"
  },
  "language_info": {
   "codemirror_mode": {
    "name": "ipython",
    "version": 3
   },
   "file_extension": ".py",
   "mimetype": "text/x-python",
   "name": "python",
   "nbconvert_exporter": "python",
   "pygments_lexer": "ipython3",
   "version": "3.7.6"
  }
 },
 "nbformat": 4,
 "nbformat_minor": 4
}
